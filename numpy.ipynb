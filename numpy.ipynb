{
 "cells": [
  {
   "cell_type": "markdown",
   "metadata": {},
   "source": [
    "# Numpy基础：数组和矢量计算\n",
    "Numpy是高性能科学计算和数学分析的基础包，是大多数高级工具的构建基础。提出以下功能：\n",
    "\n",
    "- ndarray，一个具有矢量算术运算和复杂广播能力的快速且节省空间的多维数组\n",
    "- 对数组数据进行快速运算的标准数学函数（无需编写循环）\n",
    "- 读写磁盘数据的工具\n",
    "- 线性代数、随机数生成以及傅里叶变换\n",
    "- 集成由C、C++、Fortran等语言编写代码的工具\n",
    "标准的NumPy约定导入方法："
   ]
  },
  {
   "cell_type": "code",
   "execution_count": 1,
   "metadata": {
    "ExecuteTime": {
     "end_time": "2019-03-12T00:29:46.656798Z",
     "start_time": "2019-03-12T00:29:41.992311Z"
    }
   },
   "outputs": [],
   "source": [
    "import numpy as np"
   ]
  },
  {
   "cell_type": "markdown",
   "metadata": {},
   "source": [
    "## 1. NumPy的ndarray：一种多维数组对象\n",
    "NumPy最重要的特点是其**N维数组对象（即ndarray）**，能够对整块数据执行一些数学运算，其语法与基本数据类型之间的运算一样。"
   ]
  },
  {
   "cell_type": "code",
   "execution_count": 3,
   "metadata": {
    "ExecuteTime": {
     "end_time": "2019-03-05T02:30:47.395747Z",
     "start_time": "2019-03-05T02:30:43.459544Z"
    }
   },
   "outputs": [
    {
     "data": {
      "text/plain": [
       "array([[0.90892332, 0.09566098, 0.58718358],\n",
       "       [0.34904468, 0.04295783, 0.29375294]])"
      ]
     },
     "execution_count": 3,
     "metadata": {},
     "output_type": "execute_result"
    }
   ],
   "source": [
    "import numpy as np\n",
    "data = np.random.random((2,3))\n",
    "data"
   ]
  },
  {
   "cell_type": "code",
   "execution_count": 24,
   "metadata": {},
   "outputs": [
    {
     "data": {
      "text/plain": [
       "array([[ 5.03581838,  9.16267202,  9.64100751],\n",
       "       [ 1.90985163,  1.51697847,  3.63042676]])"
      ]
     },
     "execution_count": 24,
     "metadata": {},
     "output_type": "execute_result"
    }
   ],
   "source": [
    "data * 10"
   ]
  },
  {
   "cell_type": "code",
   "execution_count": 25,
   "metadata": {},
   "outputs": [
    {
     "data": {
      "text/plain": [
       "array([[ 1.00716368,  1.8325344 ,  1.9282015 ],\n",
       "       [ 0.38197033,  0.30339569,  0.72608535]])"
      ]
     },
     "execution_count": 25,
     "metadata": {},
     "output_type": "execute_result"
    }
   ],
   "source": [
    "data + data"
   ]
  },
  {
   "cell_type": "markdown",
   "metadata": {},
   "source": [
    "1. ndarray是一个通用的**同构数据容器**，即其中的元素必须是相同类型的。\n",
    "2. 每个数组都有一个shape（一个表示各维度大小的元组)和一个dtype（说明数组数据类型的对象）"
   ]
  },
  {
   "cell_type": "code",
   "execution_count": 26,
   "metadata": {},
   "outputs": [
    {
     "data": {
      "text/plain": [
       "(2, 3)"
      ]
     },
     "execution_count": 26,
     "metadata": {},
     "output_type": "execute_result"
    }
   ],
   "source": [
    "data.shape"
   ]
  },
  {
   "cell_type": "code",
   "execution_count": 4,
   "metadata": {
    "ExecuteTime": {
     "end_time": "2019-03-05T02:30:52.888099Z",
     "start_time": "2019-03-05T02:30:52.879104Z"
    }
   },
   "outputs": [
    {
     "data": {
      "text/plain": [
       "dtype('float64')"
      ]
     },
     "execution_count": 4,
     "metadata": {},
     "output_type": "execute_result"
    }
   ],
   "source": [
    "data.dtype"
   ]
  },
  {
   "cell_type": "markdown",
   "metadata": {},
   "source": [
    "### 1.1 创建ndarray对象\n",
    "+ 最简单的办法是使用**array**函数，它接受一切序列型对象（包括其他数组）"
   ]
  },
  {
   "cell_type": "code",
   "execution_count": 28,
   "metadata": {},
   "outputs": [
    {
     "data": {
      "text/plain": [
       "array([ 6. ,  7.5,  8. ,  0. ,  1. ])"
      ]
     },
     "execution_count": 28,
     "metadata": {},
     "output_type": "execute_result"
    }
   ],
   "source": [
    "data1 = [6, 7.5, 8, 0, 1]\n",
    "arr1 = np.array(data1)\n",
    "arr1"
   ]
  },
  {
   "cell_type": "code",
   "execution_count": 29,
   "metadata": {},
   "outputs": [
    {
     "data": {
      "text/plain": [
       "[6, 7.5, 8, 0, 1]"
      ]
     },
     "execution_count": 29,
     "metadata": {},
     "output_type": "execute_result"
    }
   ],
   "source": [
    "data1"
   ]
  },
  {
   "cell_type": "markdown",
   "metadata": {},
   "source": [
    "嵌套序列（比如等长的列表）将会被转化为一个多维数组"
   ]
  },
  {
   "cell_type": "code",
   "execution_count": 30,
   "metadata": {},
   "outputs": [
    {
     "data": {
      "text/plain": [
       "array([[1, 2, 3, 4],\n",
       "       [5, 6, 7, 8]])"
      ]
     },
     "execution_count": 30,
     "metadata": {},
     "output_type": "execute_result"
    }
   ],
   "source": [
    "data2 = [[1,2,3,4],[5,6,7,8]]\n",
    "arr2 = np.array(data2)\n",
    "arr2"
   ]
  },
  {
   "cell_type": "code",
   "execution_count": 31,
   "metadata": {},
   "outputs": [
    {
     "data": {
      "text/plain": [
       "2"
      ]
     },
     "execution_count": 31,
     "metadata": {},
     "output_type": "execute_result"
    }
   ],
   "source": [
    "arr2.ndim"
   ]
  },
  {
   "cell_type": "code",
   "execution_count": 32,
   "metadata": {},
   "outputs": [
    {
     "data": {
      "text/plain": [
       "(2, 4)"
      ]
     },
     "execution_count": 32,
     "metadata": {},
     "output_type": "execute_result"
    }
   ],
   "source": [
    "arr2.shape"
   ]
  },
  {
   "cell_type": "markdown",
   "metadata": {},
   "source": [
    "除非显示说明，np.array会尝试为新建的数组推断出一个较为合适的数据类型，保存在dtype对象中。"
   ]
  },
  {
   "cell_type": "code",
   "execution_count": 33,
   "metadata": {},
   "outputs": [
    {
     "data": {
      "text/plain": [
       "dtype('float64')"
      ]
     },
     "execution_count": 33,
     "metadata": {},
     "output_type": "execute_result"
    }
   ],
   "source": [
    "arr1.dtype"
   ]
  },
  {
   "cell_type": "code",
   "execution_count": 34,
   "metadata": {},
   "outputs": [
    {
     "data": {
      "text/plain": [
       "dtype('int32')"
      ]
     },
     "execution_count": 34,
     "metadata": {},
     "output_type": "execute_result"
    }
   ],
   "source": [
    "arr2.dtype"
   ]
  },
  {
   "cell_type": "markdown",
   "metadata": {},
   "source": [
    "+ zeros和ones分别可以创建指定长度或形状的全部为0或1的数组。empty可以创建一个没有任何具体数值的数组。创建多为数组只需传入一个表示形状的元组即刻。"
   ]
  },
  {
   "cell_type": "code",
   "execution_count": 35,
   "metadata": {},
   "outputs": [
    {
     "data": {
      "text/plain": [
       "array([ 0.,  0.,  0.,  0.,  0.,  0.,  0.,  0.,  0.,  0.])"
      ]
     },
     "execution_count": 35,
     "metadata": {},
     "output_type": "execute_result"
    }
   ],
   "source": [
    "np.zeros((10,))"
   ]
  },
  {
   "cell_type": "code",
   "execution_count": 36,
   "metadata": {},
   "outputs": [
    {
     "data": {
      "text/plain": [
       "array([ 0.,  0.,  0.,  0.,  0.,  0.,  0.,  0.,  0.,  0.])"
      ]
     },
     "execution_count": 36,
     "metadata": {},
     "output_type": "execute_result"
    }
   ],
   "source": [
    "np.zeros(10)"
   ]
  },
  {
   "cell_type": "code",
   "execution_count": 37,
   "metadata": {},
   "outputs": [
    {
     "data": {
      "text/plain": [
       "array([[ 0.,  0.],\n",
       "       [ 0.,  0.],\n",
       "       [ 0.,  0.]])"
      ]
     },
     "execution_count": 37,
     "metadata": {},
     "output_type": "execute_result"
    }
   ],
   "source": [
    "np.zeros((3,2))"
   ]
  },
  {
   "cell_type": "code",
   "execution_count": 38,
   "metadata": {},
   "outputs": [
    {
     "data": {
      "text/plain": [
       "array([[ 0.,  0.,  0.,  0.,  0.,  0.],\n",
       "       [ 0.,  0.,  0.,  0.,  0.,  0.],\n",
       "       [ 0.,  0.,  0.,  0.,  0.,  0.]])"
      ]
     },
     "execution_count": 38,
     "metadata": {},
     "output_type": "execute_result"
    }
   ],
   "source": [
    "np.zeros((3,6))"
   ]
  },
  {
   "cell_type": "code",
   "execution_count": 39,
   "metadata": {},
   "outputs": [
    {
     "data": {
      "text/plain": [
       "array([[ 1.,  1.],\n",
       "       [ 1.,  1.],\n",
       "       [ 1.,  1.]])"
      ]
     },
     "execution_count": 39,
     "metadata": {},
     "output_type": "execute_result"
    }
   ],
   "source": [
    "np.ones((3,2))"
   ]
  },
  {
   "cell_type": "code",
   "execution_count": 40,
   "metadata": {},
   "outputs": [
    {
     "data": {
      "text/plain": [
       "array([[[ 0.,  0.],\n",
       "        [ 0.,  0.],\n",
       "        [ 0.,  0.]],\n",
       "\n",
       "       [[ 0.,  0.],\n",
       "        [ 0.,  0.],\n",
       "        [ 0.,  0.]]])"
      ]
     },
     "execution_count": 40,
     "metadata": {},
     "output_type": "execute_result"
    }
   ],
   "source": [
    "np.empty((2, 3, 2))"
   ]
  },
  {
   "cell_type": "markdown",
   "metadata": {},
   "source": [
    "*np.empty并不会总是返回全0数组，多数情况下，他返回的都是一些未初始化的垃圾值。*"
   ]
  },
  {
   "cell_type": "markdown",
   "metadata": {},
   "source": [
    "+ arrange函数（Python内置函数range的NumPy版）"
   ]
  },
  {
   "cell_type": "code",
   "execution_count": 41,
   "metadata": {},
   "outputs": [
    {
     "data": {
      "text/plain": [
       "array([ 0,  1,  2,  3,  4,  5,  6,  7,  8,  9, 10, 11, 12, 13, 14])"
      ]
     },
     "execution_count": 41,
     "metadata": {},
     "output_type": "execute_result"
    }
   ],
   "source": [
    "np.arange(15)"
   ]
  },
  {
   "cell_type": "code",
   "execution_count": 42,
   "metadata": {},
   "outputs": [
    {
     "data": {
      "text/plain": [
       "array([ 0,  2,  4,  6,  8, 10, 12, 14])"
      ]
     },
     "execution_count": 42,
     "metadata": {},
     "output_type": "execute_result"
    }
   ],
   "source": [
    "np.arange(0,15,2)"
   ]
  },
  {
   "cell_type": "markdown",
   "metadata": {},
   "source": [
    "### 1.2 ndarray的数据类型"
   ]
  },
  {
   "cell_type": "code",
   "execution_count": 43,
   "metadata": {
    "collapsed": true
   },
   "outputs": [],
   "source": [
    "arr3 = np.array([1, 2, 3], dtype = np.float64)\n",
    "arr4 = np.array([1, 2, 3], dtype = np.int32)"
   ]
  },
  {
   "cell_type": "code",
   "execution_count": 44,
   "metadata": {},
   "outputs": [
    {
     "data": {
      "text/plain": [
       "dtype('float64')"
      ]
     },
     "execution_count": 44,
     "metadata": {},
     "output_type": "execute_result"
    }
   ],
   "source": [
    "arr3.dtype"
   ]
  },
  {
   "cell_type": "code",
   "execution_count": 45,
   "metadata": {},
   "outputs": [
    {
     "data": {
      "text/plain": [
       "dtype('int32')"
      ]
     },
     "execution_count": 45,
     "metadata": {},
     "output_type": "execute_result"
    }
   ],
   "source": [
    "arr4.dtype"
   ]
  },
  {
   "cell_type": "markdown",
   "metadata": {},
   "source": [
    "+ 可以通过ndarray的**astype**方法显式转换其dtype："
   ]
  },
  {
   "cell_type": "code",
   "execution_count": 5,
   "metadata": {
    "ExecuteTime": {
     "end_time": "2019-03-05T02:45:58.804393Z",
     "start_time": "2019-03-05T02:45:58.791401Z"
    }
   },
   "outputs": [
    {
     "data": {
      "text/plain": [
       "dtype('int32')"
      ]
     },
     "execution_count": 5,
     "metadata": {},
     "output_type": "execute_result"
    }
   ],
   "source": [
    "arr5 = np.array([1, 2, 3, 4, 5])\n",
    "arr5.dtype"
   ]
  },
  {
   "cell_type": "code",
   "execution_count": 6,
   "metadata": {
    "ExecuteTime": {
     "end_time": "2019-03-05T02:46:02.890682Z",
     "start_time": "2019-03-05T02:46:02.879672Z"
    }
   },
   "outputs": [
    {
     "data": {
      "text/plain": [
       "dtype('float64')"
      ]
     },
     "execution_count": 6,
     "metadata": {},
     "output_type": "execute_result"
    }
   ],
   "source": [
    "float_arr = arr5.astype(np.float64)\n",
    "float_arr.dtype"
   ]
  },
  {
   "cell_type": "markdown",
   "metadata": {},
   "source": [
    "如果浮点数转换为整数，则小数部分会被截断。"
   ]
  },
  {
   "cell_type": "code",
   "execution_count": 7,
   "metadata": {
    "ExecuteTime": {
     "end_time": "2019-03-05T02:46:33.614443Z",
     "start_time": "2019-03-05T02:46:33.602450Z"
    }
   },
   "outputs": [
    {
     "data": {
      "text/plain": [
       "array([ 3.7, -1.2, -2.6,  0.5, 12.9, 10.1])"
      ]
     },
     "execution_count": 7,
     "metadata": {},
     "output_type": "execute_result"
    }
   ],
   "source": [
    "arr6 = np.array([3.7, -1.2, -2.6, 0.5, 12.9, 10.1])\n",
    "arr6"
   ]
  },
  {
   "cell_type": "code",
   "execution_count": 8,
   "metadata": {
    "ExecuteTime": {
     "end_time": "2019-03-05T02:46:37.043975Z",
     "start_time": "2019-03-05T02:46:37.035979Z"
    }
   },
   "outputs": [
    {
     "data": {
      "text/plain": [
       "dtype('float64')"
      ]
     },
     "execution_count": 8,
     "metadata": {},
     "output_type": "execute_result"
    }
   ],
   "source": [
    "arr6.dtype"
   ]
  },
  {
   "cell_type": "code",
   "execution_count": 9,
   "metadata": {
    "ExecuteTime": {
     "end_time": "2019-03-05T02:46:41.072630Z",
     "start_time": "2019-03-05T02:46:40.761592Z"
    }
   },
   "outputs": [
    {
     "data": {
      "text/plain": [
       "array([ 3, -1, -2,  0, 12, 10])"
      ]
     },
     "execution_count": 9,
     "metadata": {},
     "output_type": "execute_result"
    }
   ],
   "source": [
    "arr6.astype(np.int32)"
   ]
  },
  {
   "cell_type": "markdown",
   "metadata": {},
   "source": [
    "如果某字符串全是数字，也可以用astype将其转换为数值形式："
   ]
  },
  {
   "cell_type": "code",
   "execution_count": 11,
   "metadata": {
    "ExecuteTime": {
     "end_time": "2019-03-05T02:47:47.264873Z",
     "start_time": "2019-03-05T02:47:47.249900Z"
    }
   },
   "outputs": [
    {
     "data": {
      "text/plain": [
       "array([b'1.25', b'-9.6', b'42'], dtype='|S4')"
      ]
     },
     "execution_count": 11,
     "metadata": {},
     "output_type": "execute_result"
    }
   ],
   "source": [
    "numeric_strings= np.array(['1.25', '-9.6', '42'], dtype=np.string_)"
   ]
  },
  {
   "cell_type": "code",
   "execution_count": 12,
   "metadata": {
    "ExecuteTime": {
     "end_time": "2019-03-05T02:48:25.416070Z",
     "start_time": "2019-03-05T02:48:25.364100Z"
    }
   },
   "outputs": [
    {
     "data": {
      "text/plain": [
       "array([ 1.25, -9.6 , 42.  ])"
      ]
     },
     "execution_count": 12,
     "metadata": {},
     "output_type": "execute_result"
    }
   ],
   "source": [
    "newarr = numeric_strings.astype(np.float)\n",
    "newarr"
   ]
  },
  {
   "cell_type": "code",
   "execution_count": 13,
   "metadata": {
    "ExecuteTime": {
     "end_time": "2019-03-05T02:48:30.408981Z",
     "start_time": "2019-03-05T02:48:30.397986Z"
    }
   },
   "outputs": [
    {
     "data": {
      "text/plain": [
       "array([b'1.25', b'-9.6', b'42'], dtype='|S4')"
      ]
     },
     "execution_count": 13,
     "metadata": {},
     "output_type": "execute_result"
    }
   ],
   "source": [
    "numeric_strings"
   ]
  },
  {
   "cell_type": "code",
   "execution_count": 14,
   "metadata": {
    "ExecuteTime": {
     "end_time": "2019-03-05T02:48:34.624398Z",
     "start_time": "2019-03-05T02:48:34.614405Z"
    }
   },
   "outputs": [
    {
     "data": {
      "text/plain": [
       "dtype('float64')"
      ]
     },
     "execution_count": 14,
     "metadata": {},
     "output_type": "execute_result"
    }
   ],
   "source": [
    "newarr.dtype"
   ]
  },
  {
   "cell_type": "markdown",
   "metadata": {},
   "source": [
    "+ **数组类型转化时，会返回新建数组，即原数组的一个copy，原数组并未发生改变。**\n",
    "+ 如果转化过程失败，会引发TypeError\n",
    "+ 转换过程中可以不具体指定位数，譬如`np.int`，`np.float`等，NumPy会自动完成映射"
   ]
  },
  {
   "cell_type": "code",
   "execution_count": 15,
   "metadata": {
    "ExecuteTime": {
     "end_time": "2019-03-05T02:49:59.571560Z",
     "start_time": "2019-03-05T02:49:59.552571Z"
    }
   },
   "outputs": [],
   "source": [
    "calibers = np.array([.22, .270, .357, .380, .44, .50], dtype=np.float64)\n",
    "int_array = np.arange(10)"
   ]
  },
  {
   "cell_type": "markdown",
   "metadata": {},
   "source": [
    "+ dtype可以用于指定新数组与已有数组同数据类型"
   ]
  },
  {
   "cell_type": "code",
   "execution_count": 56,
   "metadata": {},
   "outputs": [
    {
     "data": {
      "text/plain": [
       "array([ 0.,  1.,  2.,  3.,  4.,  5.,  6.,  7.,  8.,  9.])"
      ]
     },
     "execution_count": 56,
     "metadata": {},
     "output_type": "execute_result"
    }
   ],
   "source": [
    "int_array.astype(calibers.dtype)"
   ]
  },
  {
   "cell_type": "markdown",
   "metadata": {},
   "source": [
    "### 1.3 数组和标量之间的运算\n",
    "+ NumPy数组可以不用写循环对数据执行批量计算，这通常叫作**矢量化**。\n",
    "+ **大小相等的数组之间的任何算术运算都会应用到元素级**。"
   ]
  },
  {
   "cell_type": "code",
   "execution_count": 16,
   "metadata": {
    "ExecuteTime": {
     "end_time": "2019-03-05T02:50:12.713723Z",
     "start_time": "2019-03-05T02:50:12.706726Z"
    }
   },
   "outputs": [],
   "source": [
    "arr7 = np.array([[1., 2., 3.], [4., 5., 6.]])"
   ]
  },
  {
   "cell_type": "code",
   "execution_count": 17,
   "metadata": {
    "ExecuteTime": {
     "end_time": "2019-03-05T02:50:15.665381Z",
     "start_time": "2019-03-05T02:50:15.654390Z"
    }
   },
   "outputs": [
    {
     "data": {
      "text/plain": [
       "array([[1., 2., 3.],\n",
       "       [4., 5., 6.]])"
      ]
     },
     "execution_count": 17,
     "metadata": {},
     "output_type": "execute_result"
    }
   ],
   "source": [
    "arr7"
   ]
  },
  {
   "cell_type": "code",
   "execution_count": 18,
   "metadata": {
    "ExecuteTime": {
     "end_time": "2019-03-05T02:50:32.056773Z",
     "start_time": "2019-03-05T02:50:32.032788Z"
    }
   },
   "outputs": [
    {
     "data": {
      "text/plain": [
       "array([[ 1.,  4.,  9.],\n",
       "       [16., 25., 36.]])"
      ]
     },
     "execution_count": 18,
     "metadata": {},
     "output_type": "execute_result"
    }
   ],
   "source": [
    "arr7 * arr7"
   ]
  },
  {
   "cell_type": "code",
   "execution_count": 19,
   "metadata": {
    "ExecuteTime": {
     "end_time": "2019-03-05T02:50:36.320625Z",
     "start_time": "2019-03-05T02:50:36.310630Z"
    }
   },
   "outputs": [
    {
     "data": {
      "text/plain": [
       "array([[0., 0., 0.],\n",
       "       [0., 0., 0.]])"
      ]
     },
     "execution_count": 19,
     "metadata": {},
     "output_type": "execute_result"
    }
   ],
   "source": [
    "arr7 - arr7"
   ]
  },
  {
   "cell_type": "markdown",
   "metadata": {},
   "source": [
    "+ 数组与标量的的算术运算也会将标量值传播到各个元素"
   ]
  },
  {
   "cell_type": "code",
   "execution_count": 20,
   "metadata": {
    "ExecuteTime": {
     "end_time": "2019-03-05T02:50:50.902216Z",
     "start_time": "2019-03-05T02:50:50.876229Z"
    }
   },
   "outputs": [
    {
     "data": {
      "text/plain": [
       "array([[1.        , 0.5       , 0.33333333],\n",
       "       [0.25      , 0.2       , 0.16666667]])"
      ]
     },
     "execution_count": 20,
     "metadata": {},
     "output_type": "execute_result"
    }
   ],
   "source": [
    "1 / arr7"
   ]
  },
  {
   "cell_type": "markdown",
   "metadata": {},
   "source": [
    "+ 不同大小的数组之间的运算叫作广播（broadcasting）"
   ]
  },
  {
   "cell_type": "markdown",
   "metadata": {},
   "source": [
    "### 1.4 基本的索引和切片\n",
    "一维数组很简单，从表面上看，跟Python列表差不多。"
   ]
  },
  {
   "cell_type": "code",
   "execution_count": 62,
   "metadata": {},
   "outputs": [
    {
     "data": {
      "text/plain": [
       "array([0, 1, 2, 3, 4, 5, 6, 7, 8, 9])"
      ]
     },
     "execution_count": 62,
     "metadata": {},
     "output_type": "execute_result"
    }
   ],
   "source": [
    "arr8 = np.arange(10)\n",
    "arr8"
   ]
  },
  {
   "cell_type": "code",
   "execution_count": 63,
   "metadata": {},
   "outputs": [
    {
     "data": {
      "text/plain": [
       "5"
      ]
     },
     "execution_count": 63,
     "metadata": {},
     "output_type": "execute_result"
    }
   ],
   "source": [
    "arr8[5]"
   ]
  },
  {
   "cell_type": "code",
   "execution_count": 64,
   "metadata": {},
   "outputs": [
    {
     "data": {
      "text/plain": [
       "array([5, 6, 7])"
      ]
     },
     "execution_count": 64,
     "metadata": {},
     "output_type": "execute_result"
    }
   ],
   "source": [
    "arr8[5:8]"
   ]
  },
  {
   "cell_type": "markdown",
   "metadata": {},
   "source": [
    "+ 将一个标量值赋值给一个片段时，该值会自动传播（广播）到整个选区。"
   ]
  },
  {
   "cell_type": "code",
   "execution_count": 65,
   "metadata": {},
   "outputs": [
    {
     "data": {
      "text/plain": [
       "array([ 0,  1,  2,  3,  4, 12, 12, 12,  8,  9])"
      ]
     },
     "execution_count": 65,
     "metadata": {},
     "output_type": "execute_result"
    }
   ],
   "source": [
    "arr8[5:8] = 12\n",
    "arr8"
   ]
  },
  {
   "cell_type": "markdown",
   "metadata": {},
   "source": [
    "+ 跟列表的重要区别在于，**数组切片是原始数组的视图，即数据不会被复制，视图上的任何修改都会直接反映到源数据上**"
   ]
  },
  {
   "cell_type": "code",
   "execution_count": 66,
   "metadata": {},
   "outputs": [
    {
     "data": {
      "text/plain": [
       "array([    0,     1,     2,     3,     4,    12, 12345,    12,     8,     9])"
      ]
     },
     "execution_count": 66,
     "metadata": {},
     "output_type": "execute_result"
    }
   ],
   "source": [
    "arr8_slcie = arr8[5:8]\n",
    "arr8_slcie[1] = 12345\n",
    "arr8"
   ]
  },
  {
   "cell_type": "code",
   "execution_count": 67,
   "metadata": {},
   "outputs": [
    {
     "data": {
      "text/plain": [
       "array([ 0,  1,  2,  3,  4, 64, 64, 64,  8,  9])"
      ]
     },
     "execution_count": 67,
     "metadata": {},
     "output_type": "execute_result"
    }
   ],
   "source": [
    "arr8_slcie[:] = 64\n",
    "arr8"
   ]
  },
  {
   "cell_type": "code",
   "execution_count": 68,
   "metadata": {},
   "outputs": [
    {
     "data": {
      "text/plain": [
       "[0, 1, 2, 3, 4, 5, 6, 7, 8, 9]"
      ]
     },
     "execution_count": 68,
     "metadata": {},
     "output_type": "execute_result"
    }
   ],
   "source": [
    "ls = list(range(10))\n",
    "ls_slice = ls[5:8]\n",
    "ls_slice[1] = 12\n",
    "ls"
   ]
  },
  {
   "cell_type": "code",
   "execution_count": null,
   "metadata": {
    "collapsed": true
   },
   "outputs": [],
   "source": []
  },
  {
   "cell_type": "code",
   "execution_count": 69,
   "metadata": {},
   "outputs": [
    {
     "data": {
      "text/plain": [
       "[5, 12, 7]"
      ]
     },
     "execution_count": 69,
     "metadata": {},
     "output_type": "execute_result"
    }
   ],
   "source": [
    "ls_slice"
   ]
  },
  {
   "cell_type": "code",
   "execution_count": 70,
   "metadata": {},
   "outputs": [
    {
     "data": {
      "text/plain": [
       "[0, 1, 2, 3, 4, 5, 6, 7, 8, 9]"
      ]
     },
     "execution_count": 70,
     "metadata": {},
     "output_type": "execute_result"
    }
   ],
   "source": [
    "ls"
   ]
  },
  {
   "cell_type": "code",
   "execution_count": null,
   "metadata": {
    "collapsed": true
   },
   "outputs": [],
   "source": []
  },
  {
   "cell_type": "markdown",
   "metadata": {},
   "source": [
    "+ 如果需要得到ndarray切片的一份副本而非视图，则需进行显式地复制操作，例如`arr8[5:8].copy()`\n",
    "+ 在二维数组中,各索引位置上地元素不是标量，而是一维数组"
   ]
  },
  {
   "cell_type": "code",
   "execution_count": 71,
   "metadata": {},
   "outputs": [
    {
     "data": {
      "text/plain": [
       "array([7, 8, 9])"
      ]
     },
     "execution_count": 71,
     "metadata": {},
     "output_type": "execute_result"
    }
   ],
   "source": [
    "arr2d = np.array([[1,2,3],[4,5,6],[7,8,9]])\n",
    "arr2d[2]"
   ]
  },
  {
   "cell_type": "code",
   "execution_count": 72,
   "metadata": {},
   "outputs": [
    {
     "data": {
      "text/plain": [
       "3"
      ]
     },
     "execution_count": 72,
     "metadata": {},
     "output_type": "execute_result"
    }
   ],
   "source": [
    "arr2d[0][2]"
   ]
  },
  {
   "cell_type": "code",
   "execution_count": 73,
   "metadata": {},
   "outputs": [
    {
     "data": {
      "text/plain": [
       "3"
      ]
     },
     "execution_count": 73,
     "metadata": {},
     "output_type": "execute_result"
    }
   ],
   "source": [
    "arr2d[0,2]"
   ]
  },
  {
   "cell_type": "markdown",
   "metadata": {},
   "source": [
    "+ 多维数组中，如果省略后面地索引，则返回对象是一个维度低一级地ndarray"
   ]
  },
  {
   "cell_type": "code",
   "execution_count": 21,
   "metadata": {
    "ExecuteTime": {
     "end_time": "2019-03-05T03:05:01.505256Z",
     "start_time": "2019-03-05T03:05:01.441292Z"
    }
   },
   "outputs": [
    {
     "data": {
      "text/plain": [
       "array([[[ 1,  2,  3],\n",
       "        [ 4,  5,  6]],\n",
       "\n",
       "       [[ 7,  8,  9],\n",
       "        [10, 11, 12]]])"
      ]
     },
     "execution_count": 21,
     "metadata": {},
     "output_type": "execute_result"
    }
   ],
   "source": [
    "arr3d = np.array([[[1,2, 3],[4,5,6]],[[7,8,9],[10,11,12]]])\n",
    "arr3d"
   ]
  },
  {
   "cell_type": "code",
   "execution_count": 22,
   "metadata": {
    "ExecuteTime": {
     "end_time": "2019-03-05T03:05:07.997289Z",
     "start_time": "2019-03-05T03:05:07.987295Z"
    }
   },
   "outputs": [
    {
     "data": {
      "text/plain": [
       "(2, 2, 3)"
      ]
     },
     "execution_count": 22,
     "metadata": {},
     "output_type": "execute_result"
    }
   ],
   "source": [
    "arr3d.shape"
   ]
  },
  {
   "cell_type": "code",
   "execution_count": 23,
   "metadata": {
    "ExecuteTime": {
     "end_time": "2019-03-05T03:05:12.311811Z",
     "start_time": "2019-03-05T03:05:12.301819Z"
    }
   },
   "outputs": [
    {
     "data": {
      "text/plain": [
       "array([[1, 2, 3],\n",
       "       [4, 5, 6]])"
      ]
     },
     "execution_count": 23,
     "metadata": {},
     "output_type": "execute_result"
    }
   ],
   "source": [
    "arr3d[0]"
   ]
  },
  {
   "cell_type": "markdown",
   "metadata": {},
   "source": [
    "+ 标量值和数组都可以赋值给`arr3d[0]`"
   ]
  },
  {
   "cell_type": "code",
   "execution_count": 24,
   "metadata": {
    "ExecuteTime": {
     "end_time": "2019-03-05T03:06:51.259577Z",
     "start_time": "2019-03-05T03:06:51.229595Z"
    }
   },
   "outputs": [
    {
     "data": {
      "text/plain": [
       "array([[[42, 42, 42],\n",
       "        [42, 42, 42]],\n",
       "\n",
       "       [[ 7,  8,  9],\n",
       "        [10, 11, 12]]])"
      ]
     },
     "execution_count": 24,
     "metadata": {},
     "output_type": "execute_result"
    }
   ],
   "source": [
    "old_values = arr3d[0].copy()\n",
    "arr3d[0] = 42\n",
    "arr3d"
   ]
  },
  {
   "cell_type": "code",
   "execution_count": 25,
   "metadata": {
    "ExecuteTime": {
     "end_time": "2019-03-05T03:07:11.052780Z",
     "start_time": "2019-03-05T03:07:11.042786Z"
    }
   },
   "outputs": [
    {
     "data": {
      "text/plain": [
       "array([[[ 1,  2,  3],\n",
       "        [ 4,  5,  6]],\n",
       "\n",
       "       [[ 7,  8,  9],\n",
       "        [10, 11, 12]]])"
      ]
     },
     "execution_count": 25,
     "metadata": {},
     "output_type": "execute_result"
    }
   ],
   "source": [
    "arr3d[0] = old_values\n",
    "arr3d"
   ]
  },
  {
   "cell_type": "code",
   "execution_count": 26,
   "metadata": {
    "ExecuteTime": {
     "end_time": "2019-03-05T03:07:15.141638Z",
     "start_time": "2019-03-05T03:07:15.128648Z"
    }
   },
   "outputs": [
    {
     "data": {
      "text/plain": [
       "array([7, 8, 9])"
      ]
     },
     "execution_count": 26,
     "metadata": {},
     "output_type": "execute_result"
    }
   ],
   "source": [
    "arr3d[1, 0]"
   ]
  },
  {
   "cell_type": "markdown",
   "metadata": {},
   "source": [
    "### 1.5 切片索引\n",
    "+ ndarray地切片语法跟Python列表这样的一维对象差不多\n",
    "+ 高维度对象花样更多，可以在一个或多个轴上进行切片，也可以跟整数索引混合使用。"
   ]
  },
  {
   "cell_type": "code",
   "execution_count": 80,
   "metadata": {},
   "outputs": [
    {
     "data": {
      "text/plain": [
       "array([1, 2, 3, 4, 5])"
      ]
     },
     "execution_count": 80,
     "metadata": {},
     "output_type": "execute_result"
    }
   ],
   "source": [
    "arr8 = np.arange(10)\n",
    "arr8[1:6]"
   ]
  },
  {
   "cell_type": "code",
   "execution_count": 81,
   "metadata": {},
   "outputs": [
    {
     "data": {
      "text/plain": [
       "array([[1, 2, 3],\n",
       "       [4, 5, 6],\n",
       "       [7, 8, 9]])"
      ]
     },
     "execution_count": 81,
     "metadata": {},
     "output_type": "execute_result"
    }
   ],
   "source": [
    "arr2d"
   ]
  },
  {
   "cell_type": "code",
   "execution_count": 82,
   "metadata": {},
   "outputs": [
    {
     "data": {
      "text/plain": [
       "array([[1, 2, 3],\n",
       "       [4, 5, 6]])"
      ]
     },
     "execution_count": 82,
     "metadata": {},
     "output_type": "execute_result"
    }
   ],
   "source": [
    "arr2d[:2]"
   ]
  },
  {
   "cell_type": "markdown",
   "metadata": {},
   "source": [
    "可以看出，上述例子是沿着第0轴（即第一个轴）进行切片地。也就是说，切片是沿着一个轴向选取元素，因此可以一次传入多个切片，就像传入多个索引那样。"
   ]
  },
  {
   "cell_type": "code",
   "execution_count": 83,
   "metadata": {},
   "outputs": [
    {
     "data": {
      "text/plain": [
       "6"
      ]
     },
     "execution_count": 83,
     "metadata": {},
     "output_type": "execute_result"
    }
   ],
   "source": [
    "arr2d[1,2]"
   ]
  },
  {
   "cell_type": "code",
   "execution_count": 84,
   "metadata": {},
   "outputs": [
    {
     "data": {
      "text/plain": [
       "array([[2, 3],\n",
       "       [5, 6]])"
      ]
     },
     "execution_count": 84,
     "metadata": {},
     "output_type": "execute_result"
    }
   ],
   "source": [
    "arr2d[:2,1:]"
   ]
  },
  {
   "cell_type": "markdown",
   "metadata": {},
   "source": [
    "切片操作时，只能得到相同维数的数组视图。通过将整数索引和切片索引混合，可以得到低维度的切片。"
   ]
  },
  {
   "cell_type": "code",
   "execution_count": 85,
   "metadata": {},
   "outputs": [
    {
     "data": {
      "text/plain": [
       "array([4, 5])"
      ]
     },
     "execution_count": 85,
     "metadata": {},
     "output_type": "execute_result"
    }
   ],
   "source": [
    "arr2d[1,:2]"
   ]
  },
  {
   "cell_type": "code",
   "execution_count": 86,
   "metadata": {},
   "outputs": [
    {
     "data": {
      "text/plain": [
       "array([7])"
      ]
     },
     "execution_count": 86,
     "metadata": {},
     "output_type": "execute_result"
    }
   ],
   "source": [
    "arr2d[2,:1]"
   ]
  },
  {
   "cell_type": "markdown",
   "metadata": {},
   "source": [
    "+ 只有冒号表示选取整个轴\n",
    "+ 对切片进行赋值也会被扩散到整个选区"
   ]
  },
  {
   "cell_type": "code",
   "execution_count": 87,
   "metadata": {},
   "outputs": [
    {
     "data": {
      "text/plain": [
       "array([[1],\n",
       "       [4],\n",
       "       [7]])"
      ]
     },
     "execution_count": 87,
     "metadata": {},
     "output_type": "execute_result"
    }
   ],
   "source": [
    "arr2d[:,:1]"
   ]
  },
  {
   "cell_type": "code",
   "execution_count": 88,
   "metadata": {},
   "outputs": [
    {
     "data": {
      "text/plain": [
       "array([[1, 0, 0],\n",
       "       [4, 0, 0],\n",
       "       [7, 8, 9]])"
      ]
     },
     "execution_count": 88,
     "metadata": {},
     "output_type": "execute_result"
    }
   ],
   "source": [
    "arr2d[:2,1:] = 0\n",
    "arr2d"
   ]
  },
  {
   "cell_type": "markdown",
   "metadata": {},
   "source": [
    "<span class=\"mark\"><div class=\"mark\"></span>\n",
    "### 1.6 布尔型索引</div><i class=\"fa fa-lightbulb-o \"></i>"
   ]
  },
  {
   "cell_type": "code",
   "execution_count": 27,
   "metadata": {
    "ExecuteTime": {
     "end_time": "2019-03-05T03:37:13.464800Z",
     "start_time": "2019-03-05T03:37:13.407832Z"
    }
   },
   "outputs": [],
   "source": [
    "names = np.array(['Bob', 'Joe', 'Will', 'Bob', 'Will', 'Joe', 'Joe'])\n",
    "data = np.random.randn(7, 4)"
   ]
  },
  {
   "cell_type": "code",
   "execution_count": 28,
   "metadata": {
    "ExecuteTime": {
     "end_time": "2019-03-05T03:37:16.860556Z",
     "start_time": "2019-03-05T03:37:16.836568Z"
    }
   },
   "outputs": [
    {
     "data": {
      "text/plain": [
       "array(['Bob', 'Joe', 'Will', 'Bob', 'Will', 'Joe', 'Joe'], dtype='<U4')"
      ]
     },
     "execution_count": 28,
     "metadata": {},
     "output_type": "execute_result"
    }
   ],
   "source": [
    "names"
   ]
  },
  {
   "cell_type": "code",
   "execution_count": 29,
   "metadata": {
    "ExecuteTime": {
     "end_time": "2019-03-05T03:37:20.806001Z",
     "start_time": "2019-03-05T03:37:20.793010Z"
    }
   },
   "outputs": [
    {
     "data": {
      "text/plain": [
       "array([[-1.97776682, -0.08188507, -1.73727144,  0.17082208],\n",
       "       [-0.9309923 ,  1.4769017 , -0.95024408, -0.58293836],\n",
       "       [-1.41624741,  0.41955402,  0.41407874,  0.65354089],\n",
       "       [-1.03818657, -0.35234573, -0.47315287,  2.64631589],\n",
       "       [ 0.15026296, -0.49687597, -0.30088431,  0.86078019],\n",
       "       [-1.00308482, -0.4609666 , -0.57320331,  0.46742224],\n",
       "       [-1.27491572,  0.68381613, -0.18580211,  0.8433874 ]])"
      ]
     },
     "execution_count": 29,
     "metadata": {},
     "output_type": "execute_result"
    }
   ],
   "source": [
    "data"
   ]
  },
  {
   "cell_type": "markdown",
   "metadata": {},
   "source": [
    "假设每个名字对应data数组总的一行，如何选出对应\"Bob\"的所有行？**跟算术运算一样，数组的比较运算（如==）也是矢量化的。**"
   ]
  },
  {
   "cell_type": "code",
   "execution_count": 92,
   "metadata": {},
   "outputs": [
    {
     "data": {
      "text/plain": [
       "array([ True, False, False,  True, False, False, False], dtype=bool)"
      ]
     },
     "execution_count": 92,
     "metadata": {},
     "output_type": "execute_result"
    }
   ],
   "source": [
    "names == 'Bob'"
   ]
  },
  {
   "cell_type": "markdown",
   "metadata": {},
   "source": [
    "+ 布尔型数组可以用于索引, 但布尔型数组的长度必须与被索引的轴长度一致。\n",
    "+ 此外，还可以将布尔型数组跟切片、整数（或整数序列）混合使用"
   ]
  },
  {
   "cell_type": "code",
   "execution_count": 93,
   "metadata": {},
   "outputs": [
    {
     "data": {
      "text/plain": [
       "array([[ 0.83549036,  0.627258  , -0.43489541, -1.80174134],\n",
       "       [ 1.19204681, -0.43725214, -0.21429612, -0.07431903]])"
      ]
     },
     "execution_count": 93,
     "metadata": {},
     "output_type": "execute_result"
    }
   ],
   "source": [
    "data[names=='Bob']"
   ]
  },
  {
   "cell_type": "code",
   "execution_count": 94,
   "metadata": {},
   "outputs": [
    {
     "data": {
      "text/plain": [
       "array([[ 0.16230705,  0.17194286],\n",
       "       [ 0.21603883, -2.24219404],\n",
       "       [-0.72858945,  0.79906827]])"
      ]
     },
     "execution_count": 94,
     "metadata": {},
     "output_type": "execute_result"
    }
   ],
   "source": [
    "data[names=='Joe', 2:]"
   ]
  },
  {
   "cell_type": "code",
   "execution_count": 95,
   "metadata": {},
   "outputs": [
    {
     "data": {
      "text/plain": [
       "array([ 0.29110402,  3.15530999])"
      ]
     },
     "execution_count": 95,
     "metadata": {},
     "output_type": "execute_result"
    }
   ],
   "source": [
    "data[names=='Will', 3]"
   ]
  },
  {
   "cell_type": "markdown",
   "metadata": {},
   "source": [
    "要选取除Bob以外的其他值，**既可以使用不等于符号（!=），也可以通过波浪号（~）(以前版本是减号（-））对条件进行否定。**"
   ]
  },
  {
   "cell_type": "code",
   "execution_count": 96,
   "metadata": {},
   "outputs": [
    {
     "data": {
      "text/plain": [
       "array([[ 1.0207211 ,  0.46657651,  0.16230705,  0.17194286],\n",
       "       [-2.1825506 , -1.12389206, -1.20202577,  0.29110402],\n",
       "       [ 1.69258923, -0.761686  ,  0.20913118,  3.15530999],\n",
       "       [-0.65584303,  0.54639108,  0.21603883, -2.24219404],\n",
       "       [-1.67158242,  0.31087883, -0.72858945,  0.79906827]])"
      ]
     },
     "execution_count": 96,
     "metadata": {},
     "output_type": "execute_result"
    }
   ],
   "source": [
    "data[names != 'Bob']"
   ]
  },
  {
   "cell_type": "code",
   "execution_count": 97,
   "metadata": {},
   "outputs": [
    {
     "data": {
      "text/plain": [
       "array([[ 1.0207211 ,  0.46657651,  0.16230705,  0.17194286],\n",
       "       [-2.1825506 , -1.12389206, -1.20202577,  0.29110402],\n",
       "       [ 1.69258923, -0.761686  ,  0.20913118,  3.15530999],\n",
       "       [-0.65584303,  0.54639108,  0.21603883, -2.24219404],\n",
       "       [-1.67158242,  0.31087883, -0.72858945,  0.79906827]])"
      ]
     },
     "execution_count": 97,
     "metadata": {},
     "output_type": "execute_result"
    }
   ],
   "source": [
    "data[~(names == 'Bob')]"
   ]
  },
  {
   "cell_type": "markdown",
   "metadata": {},
   "source": [
    "选取三个名字中的两个则需要组合应用多个布尔条件，使用 **&（和）、|（或）之类的布尔算术运算符**。Python关键词and 和 or 在布尔型数组中无效。"
   ]
  },
  {
   "cell_type": "code",
   "execution_count": 98,
   "metadata": {},
   "outputs": [
    {
     "data": {
      "text/plain": [
       "array([ True, False,  True,  True,  True, False, False], dtype=bool)"
      ]
     },
     "execution_count": 98,
     "metadata": {},
     "output_type": "execute_result"
    }
   ],
   "source": [
    "mask = (names == 'Bob') | (names == 'Will')\n",
    "mask"
   ]
  },
  {
   "cell_type": "code",
   "execution_count": 99,
   "metadata": {},
   "outputs": [
    {
     "data": {
      "text/plain": [
       "array([[ 0.83549036,  0.627258  , -0.43489541, -1.80174134],\n",
       "       [-2.1825506 , -1.12389206, -1.20202577,  0.29110402],\n",
       "       [ 1.19204681, -0.43725214, -0.21429612, -0.07431903],\n",
       "       [ 1.69258923, -0.761686  ,  0.20913118,  3.15530999]])"
      ]
     },
     "execution_count": 99,
     "metadata": {},
     "output_type": "execute_result"
    }
   ],
   "source": [
    "data[mask]"
   ]
  },
  {
   "cell_type": "markdown",
   "metadata": {},
   "source": [
    "+ 布尔型索引选取数组中的数据，总是创建数据的副本，即使返回一摸一样的数组。\n",
    "+ 可以通过布尔型数组设置值。譬如，将data中所有的负值设置为0："
   ]
  },
  {
   "cell_type": "code",
   "execution_count": 100,
   "metadata": {},
   "outputs": [
    {
     "data": {
      "text/plain": [
       "array([[ 0.83549036,  0.627258  ,  0.        ,  0.        ],\n",
       "       [ 1.0207211 ,  0.46657651,  0.16230705,  0.17194286],\n",
       "       [ 0.        ,  0.        ,  0.        ,  0.29110402],\n",
       "       [ 1.19204681,  0.        ,  0.        ,  0.        ],\n",
       "       [ 1.69258923,  0.        ,  0.20913118,  3.15530999],\n",
       "       [ 0.        ,  0.54639108,  0.21603883,  0.        ],\n",
       "       [ 0.        ,  0.31087883,  0.        ,  0.79906827]])"
      ]
     },
     "execution_count": 100,
     "metadata": {},
     "output_type": "execute_result"
    }
   ],
   "source": [
    "data[data < 0] = 0\n",
    "data"
   ]
  },
  {
   "cell_type": "code",
   "execution_count": 101,
   "metadata": {},
   "outputs": [
    {
     "data": {
      "text/plain": [
       "array([[ 7.        ,  7.        ,  7.        ,  7.        ],\n",
       "       [ 1.0207211 ,  0.46657651,  0.16230705,  0.17194286],\n",
       "       [ 7.        ,  7.        ,  7.        ,  7.        ],\n",
       "       [ 7.        ,  7.        ,  7.        ,  7.        ],\n",
       "       [ 7.        ,  7.        ,  7.        ,  7.        ],\n",
       "       [ 0.        ,  0.54639108,  0.21603883,  0.        ],\n",
       "       [ 0.        ,  0.31087883,  0.        ,  0.79906827]])"
      ]
     },
     "execution_count": 101,
     "metadata": {},
     "output_type": "execute_result"
    }
   ],
   "source": [
    "data[names != 'Joe'] = 7\n",
    "data"
   ]
  },
  {
   "cell_type": "markdown",
   "metadata": {},
   "source": [
    "### 1.7 花式索引（Fancy indexing）\n",
    "NumPy术语，指利用整数数组进行索引。"
   ]
  },
  {
   "cell_type": "code",
   "execution_count": 2,
   "metadata": {
    "ExecuteTime": {
     "end_time": "2019-03-12T00:29:48.000808Z",
     "start_time": "2019-03-12T00:29:47.974823Z"
    }
   },
   "outputs": [],
   "source": [
    "arr9 = np.empty((8, 4))\n",
    "for i in range(8):\n",
    "    arr9[i] = i"
   ]
  },
  {
   "cell_type": "code",
   "execution_count": 3,
   "metadata": {
    "ExecuteTime": {
     "end_time": "2019-03-12T00:29:51.683299Z",
     "start_time": "2019-03-12T00:29:51.582356Z"
    }
   },
   "outputs": [
    {
     "data": {
      "text/plain": [
       "array([[0., 0., 0., 0.],\n",
       "       [1., 1., 1., 1.],\n",
       "       [2., 2., 2., 2.],\n",
       "       [3., 3., 3., 3.],\n",
       "       [4., 4., 4., 4.],\n",
       "       [5., 5., 5., 5.],\n",
       "       [6., 6., 6., 6.],\n",
       "       [7., 7., 7., 7.]])"
      ]
     },
     "execution_count": 3,
     "metadata": {},
     "output_type": "execute_result"
    }
   ],
   "source": [
    "arr9"
   ]
  },
  {
   "cell_type": "markdown",
   "metadata": {},
   "source": [
    "+ 为了以特定顺序选取子集，只需传入一个用于指定顺序的整数列或ndarray即可\n",
    "+ 使用负数将会从末尾开始选取行"
   ]
  },
  {
   "cell_type": "code",
   "execution_count": 104,
   "metadata": {},
   "outputs": [
    {
     "data": {
      "text/plain": [
       "array([[ 4.,  4.,  4.,  4.],\n",
       "       [ 3.,  3.,  3.,  3.],\n",
       "       [ 0.,  0.,  0.,  0.],\n",
       "       [ 6.,  6.,  6.,  6.]])"
      ]
     },
     "execution_count": 104,
     "metadata": {},
     "output_type": "execute_result"
    }
   ],
   "source": [
    "arr9[[4, 3, 0, 6]]"
   ]
  },
  {
   "cell_type": "code",
   "execution_count": 105,
   "metadata": {},
   "outputs": [
    {
     "data": {
      "text/plain": [
       "array([[ 5.,  5.,  5.,  5.],\n",
       "       [ 3.,  3.,  3.,  3.],\n",
       "       [ 1.,  1.,  1.,  1.]])"
      ]
     },
     "execution_count": 105,
     "metadata": {},
     "output_type": "execute_result"
    }
   ],
   "source": [
    "arr9[[-3, -5, -7]]"
   ]
  },
  {
   "cell_type": "markdown",
   "metadata": {},
   "source": [
    "+ 一次传入多个索引数组，将会返回一个一维数组，其中的元素对应各个索引元组"
   ]
  },
  {
   "cell_type": "code",
   "execution_count": 4,
   "metadata": {
    "ExecuteTime": {
     "end_time": "2019-03-12T00:35:38.550747Z",
     "start_time": "2019-03-12T00:35:38.468792Z"
    }
   },
   "outputs": [
    {
     "data": {
      "text/plain": [
       "array([[ 0,  1,  2,  3],\n",
       "       [ 4,  5,  6,  7],\n",
       "       [ 8,  9, 10, 11],\n",
       "       [12, 13, 14, 15],\n",
       "       [16, 17, 18, 19],\n",
       "       [20, 21, 22, 23],\n",
       "       [24, 25, 26, 27],\n",
       "       [28, 29, 30, 31]])"
      ]
     },
     "execution_count": 4,
     "metadata": {},
     "output_type": "execute_result"
    }
   ],
   "source": [
    "arr10 = np.arange(32).reshape((8, 4))\n",
    "arr10"
   ]
  },
  {
   "cell_type": "code",
   "execution_count": 107,
   "metadata": {},
   "outputs": [
    {
     "data": {
      "text/plain": [
       "array([ 4, 23, 29, 10])"
      ]
     },
     "execution_count": 107,
     "metadata": {},
     "output_type": "execute_result"
    }
   ],
   "source": [
    "arr10[[1,5,7,2],[0, 3,1,2]]"
   ]
  },
  {
   "cell_type": "markdown",
   "metadata": {},
   "source": [
    "<span class=\"mark\">1,0表示第二行第一列</span>"
   ]
  },
  {
   "cell_type": "code",
   "execution_count": 108,
   "metadata": {},
   "outputs": [
    {
     "data": {
      "text/plain": [
       "array([[ 4,  7,  5,  6],\n",
       "       [20, 23, 21, 22],\n",
       "       [28, 31, 29, 30],\n",
       "       [ 8, 11,  9, 10]])"
      ]
     },
     "execution_count": 108,
     "metadata": {},
     "output_type": "execute_result"
    }
   ],
   "source": [
    "arr10[[1,5,7,2]][:,[0,3,1,2]]"
   ]
  },
  {
   "cell_type": "markdown",
   "metadata": {},
   "source": [
    "<span class=\"girk\">加：表示索引的行元素全选</span>"
   ]
  },
  {
   "cell_type": "code",
   "execution_count": 6,
   "metadata": {
    "ExecuteTime": {
     "end_time": "2019-03-12T00:44:39.048913Z",
     "start_time": "2019-03-12T00:44:38.980954Z"
    }
   },
   "outputs": [
    {
     "data": {
      "text/plain": [
       "array([[ 2,  1,  3,  0],\n",
       "       [ 6,  5,  7,  4],\n",
       "       [10,  9, 11,  8],\n",
       "       [14, 13, 15, 12],\n",
       "       [18, 17, 19, 16],\n",
       "       [22, 21, 23, 20],\n",
       "       [26, 25, 27, 24],\n",
       "       [30, 29, 31, 28]])"
      ]
     },
     "execution_count": 6,
     "metadata": {},
     "output_type": "execute_result"
    }
   ],
   "source": [
    "arr10[:,[2,1,3,0]]"
   ]
  },
  {
   "cell_type": "code",
   "execution_count": 109,
   "metadata": {},
   "outputs": [
    {
     "data": {
      "text/plain": [
       "array([[ 4,  7,  5,  6],\n",
       "       [20, 23, 21, 22],\n",
       "       [28, 31, 29, 30],\n",
       "       [ 8, 11,  9, 10]])"
      ]
     },
     "execution_count": 109,
     "metadata": {},
     "output_type": "execute_result"
    }
   ],
   "source": [
    "arr10[np.ix_([1,5,7,2],[0,3,1,2])]"
   ]
  },
  {
   "cell_type": "markdown",
   "metadata": {},
   "source": [
    "+ ** 花式索引与切片不一样，总是将数据复制到新的数组中。**"
   ]
  },
  {
   "cell_type": "markdown",
   "metadata": {},
   "source": [
    "### 1.8 数组转置和轴对换\n",
    "+ 转置(transpose)，是重塑的一种特殊形式，返回的是源数据的视图（不会进行任何复制操作）。\n",
    "+ 此外，还有T属性,在进行矩阵计算时经常用到，譬如利用`np.dot`计算矩阵内积$X^TX$。"
   ]
  },
  {
   "cell_type": "code",
   "execution_count": 110,
   "metadata": {},
   "outputs": [
    {
     "data": {
      "text/plain": [
       "array([[ 0,  1,  2,  3],\n",
       "       [ 4,  5,  6,  7],\n",
       "       [ 8,  9, 10, 11]])"
      ]
     },
     "execution_count": 110,
     "metadata": {},
     "output_type": "execute_result"
    }
   ],
   "source": [
    "arr14 = np.arange(12).reshape((3,4))\n",
    "arr14"
   ]
  },
  {
   "cell_type": "code",
   "execution_count": 111,
   "metadata": {},
   "outputs": [
    {
     "data": {
      "text/plain": [
       "array([[ 0,  4,  8],\n",
       "       [ 1,  5,  9],\n",
       "       [ 2,  6, 10],\n",
       "       [ 3,  7, 11]])"
      ]
     },
     "execution_count": 111,
     "metadata": {},
     "output_type": "execute_result"
    }
   ],
   "source": [
    "arr14.transpose()"
   ]
  },
  {
   "cell_type": "code",
   "execution_count": 8,
   "metadata": {
    "ExecuteTime": {
     "end_time": "2019-03-12T00:54:36.807647Z",
     "start_time": "2019-03-12T00:54:36.795671Z"
    }
   },
   "outputs": [
    {
     "data": {
      "text/plain": [
       "array([[[ 0,  1,  2,  3],\n",
       "        [ 4,  5,  6,  7]],\n",
       "\n",
       "       [[ 8,  9, 10, 11],\n",
       "        [12, 13, 14, 15]]])"
      ]
     },
     "execution_count": 8,
     "metadata": {},
     "output_type": "execute_result"
    }
   ],
   "source": [
    "arr13 = np.arange(16).reshape((2, 2, 4))  # 三维数组，2x2x4，轴索引编号分别为：0，1，2\n",
    "arr13"
   ]
  },
  {
   "cell_type": "code",
   "execution_count": 113,
   "metadata": {},
   "outputs": [
    {
     "data": {
      "text/plain": [
       "6"
      ]
     },
     "execution_count": 113,
     "metadata": {},
     "output_type": "execute_result"
    }
   ],
   "source": [
    "arr13[0,1,2]"
   ]
  },
  {
   "cell_type": "code",
   "execution_count": 9,
   "metadata": {
    "ExecuteTime": {
     "end_time": "2019-03-12T00:54:43.056027Z",
     "start_time": "2019-03-12T00:54:43.047033Z"
    }
   },
   "outputs": [
    {
     "data": {
      "text/plain": [
       "array([[[ 0,  1,  2,  3],\n",
       "        [ 8,  9, 10, 11]],\n",
       "\n",
       "       [[ 4,  5,  6,  7],\n",
       "        [12, 13, 14, 15]]])"
      ]
     },
     "execution_count": 9,
     "metadata": {},
     "output_type": "execute_result"
    }
   ],
   "source": [
    "arr13.transpose((1, 0 ,2))  # 此处的（1, 0, 2)为维度的索引"
   ]
  },
  {
   "cell_type": "markdown",
   "metadata": {},
   "source": [
    "<span class=\"mark\">上面的变化中，实际上是把0轴和1轴对换了。譬如，元素6的索引位置为(0,1,2)，把0轴和1轴对换后，将位于(1,0,2)位置，虽然辩护后数组依然为2x2x4。再例如：</span>"
   ]
  },
  {
   "cell_type": "code",
   "execution_count": 11,
   "metadata": {
    "ExecuteTime": {
     "end_time": "2019-03-12T00:57:05.146703Z",
     "start_time": "2019-03-12T00:57:05.134709Z"
    }
   },
   "outputs": [
    {
     "data": {
      "text/plain": [
       "array([[[ 0,  1,  2,  3],\n",
       "        [ 4,  5,  6,  7],\n",
       "        [ 8,  9, 10, 11]],\n",
       "\n",
       "       [[12, 13, 14, 15],\n",
       "        [16, 17, 18, 19],\n",
       "        [20, 21, 22, 23]]])"
      ]
     },
     "execution_count": 11,
     "metadata": {},
     "output_type": "execute_result"
    }
   ],
   "source": [
    "arr15 = np.arange(24).reshape((2,3,4))    # 2x3x4的三位数组\n",
    "arr15"
   ]
  },
  {
   "cell_type": "code",
   "execution_count": 12,
   "metadata": {
    "ExecuteTime": {
     "end_time": "2019-03-12T00:57:09.253504Z",
     "start_time": "2019-03-12T00:57:09.243509Z"
    }
   },
   "outputs": [
    {
     "data": {
      "text/plain": [
       "array([[[ 0, 12],\n",
       "        [ 1, 13],\n",
       "        [ 2, 14],\n",
       "        [ 3, 15]],\n",
       "\n",
       "       [[ 4, 16],\n",
       "        [ 5, 17],\n",
       "        [ 6, 18],\n",
       "        [ 7, 19]],\n",
       "\n",
       "       [[ 8, 20],\n",
       "        [ 9, 21],\n",
       "        [10, 22],\n",
       "        [11, 23]]])"
      ]
     },
     "execution_count": 12,
     "metadata": {},
     "output_type": "execute_result"
    }
   ],
   "source": [
    "arr15.transpose((1,2,0))   #变为3X4x2的三维数组"
   ]
  },
  {
   "cell_type": "code",
   "execution_count": 13,
   "metadata": {
    "ExecuteTime": {
     "end_time": "2019-03-12T00:59:43.679225Z",
     "start_time": "2019-03-12T00:59:43.665234Z"
    }
   },
   "outputs": [
    {
     "data": {
      "text/plain": [
       "array([[ 0,  1,  2,  3,  4],\n",
       "       [ 5,  6,  7,  8,  9],\n",
       "       [10, 11, 12, 13, 14]])"
      ]
     },
     "execution_count": 13,
     "metadata": {},
     "output_type": "execute_result"
    }
   ],
   "source": [
    "arr11 = np.arange(15).reshape((3, 5))\n",
    "arr11"
   ]
  },
  {
   "cell_type": "code",
   "execution_count": 14,
   "metadata": {
    "ExecuteTime": {
     "end_time": "2019-03-12T00:59:48.385162Z",
     "start_time": "2019-03-12T00:59:48.375172Z"
    }
   },
   "outputs": [
    {
     "data": {
      "text/plain": [
       "array([[ 0,  5, 10],\n",
       "       [ 1,  6, 11],\n",
       "       [ 2,  7, 12],\n",
       "       [ 3,  8, 13],\n",
       "       [ 4,  9, 14]])"
      ]
     },
     "execution_count": 14,
     "metadata": {},
     "output_type": "execute_result"
    }
   ],
   "source": [
    "arr11.T#仅对两维数组"
   ]
  },
  {
   "cell_type": "code",
   "execution_count": 15,
   "metadata": {
    "ExecuteTime": {
     "end_time": "2019-03-12T01:02:26.659580Z",
     "start_time": "2019-03-12T01:02:26.227703Z"
    }
   },
   "outputs": [
    {
     "data": {
      "text/plain": [
       "array([[4.39044493, 1.71134758, 6.08682777],\n",
       "       [1.71134758, 2.76433879, 2.6964439 ],\n",
       "       [6.08682777, 2.6964439 , 9.44303671]])"
      ]
     },
     "execution_count": 15,
     "metadata": {},
     "output_type": "execute_result"
    }
   ],
   "source": [
    "arr12 = np.random.randn(6, 3)#6*3维的标准正态分布\n",
    "np.dot(arr12.T, arr12)#计算两个数组的点积"
   ]
  },
  {
   "cell_type": "markdown",
   "metadata": {},
   "source": [
    "+ 简单的转置可以使用T，其实质就是进行轴对换。此外，ndarray还有一个swapaxes方法，需接受一对轴变好。"
   ]
  },
  {
   "cell_type": "code",
   "execution_count": 16,
   "metadata": {
    "ExecuteTime": {
     "end_time": "2019-03-12T01:14:37.551942Z",
     "start_time": "2019-03-12T01:14:37.537954Z"
    }
   },
   "outputs": [
    {
     "data": {
      "text/plain": [
       "array([[[ 0,  1,  2,  3],\n",
       "        [ 4,  5,  6,  7]],\n",
       "\n",
       "       [[ 8,  9, 10, 11],\n",
       "        [12, 13, 14, 15]]])"
      ]
     },
     "execution_count": 16,
     "metadata": {},
     "output_type": "execute_result"
    }
   ],
   "source": [
    "arr13"
   ]
  },
  {
   "cell_type": "code",
   "execution_count": 17,
   "metadata": {
    "ExecuteTime": {
     "end_time": "2019-03-12T01:14:42.629350Z",
     "start_time": "2019-03-12T01:14:42.616359Z"
    }
   },
   "outputs": [
    {
     "data": {
      "text/plain": [
       "array([[[ 0,  4],\n",
       "        [ 1,  5],\n",
       "        [ 2,  6],\n",
       "        [ 3,  7]],\n",
       "\n",
       "       [[ 8, 12],\n",
       "        [ 9, 13],\n",
       "        [10, 14],\n",
       "        [11, 15]]])"
      ]
     },
     "execution_count": 17,
     "metadata": {},
     "output_type": "execute_result"
    }
   ],
   "source": [
    "arr13.swapaxes(1,2)     # 交换1轴和2轴，即由原来的(2,2,4)三维数组变换为(2,4,2)三维数组"
   ]
  },
  {
   "cell_type": "markdown",
   "metadata": {},
   "source": [
    "## 2. 通用函数：快速的元素级数组函数\n",
    "通用函数（即ufunc）是一种对ndarray中的数据执行元素级运算的函数。许多ufunc函数都是简单的元素级变体，譬如`np.sqrt`和`np.exp`。"
   ]
  },
  {
   "cell_type": "code",
   "execution_count": 25,
   "metadata": {
    "ExecuteTime": {
     "end_time": "2019-03-12T01:17:59.002057Z",
     "start_time": "2019-03-12T01:17:58.993066Z"
    }
   },
   "outputs": [
    {
     "data": {
      "text/plain": [
       "array([0.        , 1.        , 1.41421356, 1.73205081, 2.        ,\n",
       "       2.23606798, 2.44948974, 2.64575131, 2.82842712, 3.        ])"
      ]
     },
     "execution_count": 25,
     "metadata": {},
     "output_type": "execute_result"
    }
   ],
   "source": [
    "arr16 = np.arange(10)\n",
    "np.sqrt(arr16)"
   ]
  },
  {
   "cell_type": "code",
   "execution_count": 26,
   "metadata": {
    "ExecuteTime": {
     "end_time": "2019-03-12T01:18:07.575681Z",
     "start_time": "2019-03-12T01:18:07.564675Z"
    }
   },
   "outputs": [
    {
     "data": {
      "text/plain": [
       "array([1.00000000e+00, 2.71828183e+00, 7.38905610e+00, 2.00855369e+01,\n",
       "       5.45981500e+01, 1.48413159e+02, 4.03428793e+02, 1.09663316e+03,\n",
       "       2.98095799e+03, 8.10308393e+03])"
      ]
     },
     "execution_count": 26,
     "metadata": {},
     "output_type": "execute_result"
    }
   ],
   "source": [
    "np.exp(arr16)"
   ]
  },
  {
   "cell_type": "markdown",
   "metadata": {},
   "source": [
    "+ `np.exp`和`np.sqrt`都是一元ufunc。另外一些，譬如`np.add`，`np.maximum`接受两个数组，因此也叫二元ufunc，其返回一个结果数组。"
   ]
  },
  {
   "cell_type": "code",
   "execution_count": 27,
   "metadata": {
    "ExecuteTime": {
     "end_time": "2019-03-12T01:18:17.030995Z",
     "start_time": "2019-03-12T01:18:17.021021Z"
    }
   },
   "outputs": [
    {
     "data": {
      "text/plain": [
       "array([-1.29252776, -0.56808711,  0.4956579 , -1.48977071, -0.37715822,\n",
       "        0.79163068, -0.25093856, -0.44913711])"
      ]
     },
     "execution_count": 27,
     "metadata": {},
     "output_type": "execute_result"
    }
   ],
   "source": [
    "x = np.random.randn(8)\n",
    "x"
   ]
  },
  {
   "cell_type": "code",
   "execution_count": 28,
   "metadata": {
    "ExecuteTime": {
     "end_time": "2019-03-12T01:18:25.204986Z",
     "start_time": "2019-03-12T01:18:25.194995Z"
    }
   },
   "outputs": [
    {
     "data": {
      "text/plain": [
       "array([-1.55649624, -1.27909524, -0.1434527 , -0.09230364, -1.19748705,\n",
       "       -0.01580008, -1.32558151,  0.66174896])"
      ]
     },
     "execution_count": 28,
     "metadata": {},
     "output_type": "execute_result"
    }
   ],
   "source": [
    "y = np.random.randn(8)\n",
    "y"
   ]
  },
  {
   "cell_type": "code",
   "execution_count": 29,
   "metadata": {
    "ExecuteTime": {
     "end_time": "2019-03-12T01:18:29.584362Z",
     "start_time": "2019-03-12T01:18:29.574367Z"
    }
   },
   "outputs": [
    {
     "data": {
      "text/plain": [
       "array([-1.29252776, -0.56808711,  0.4956579 , -0.09230364, -0.37715822,\n",
       "        0.79163068, -0.25093856,  0.66174896])"
      ]
     },
     "execution_count": 29,
     "metadata": {},
     "output_type": "execute_result"
    }
   ],
   "source": [
    "np.maximum(x, y)"
   ]
  },
  {
   "cell_type": "markdown",
   "metadata": {},
   "source": [
    "+ 虽然不常见，但有些ufunc可以返回多个数组。譬如，`np.modf`，它是Python内置函数`divmod`的矢量化版本，用于计算浮点数数组的小数和整数部分。"
   ]
  },
  {
   "cell_type": "code",
   "execution_count": 30,
   "metadata": {
    "ExecuteTime": {
     "end_time": "2019-03-12T01:19:16.655913Z",
     "start_time": "2019-03-12T01:19:16.601939Z"
    }
   },
   "outputs": [
    {
     "data": {
      "text/plain": [
       "(array([-0.8653945 ,  0.93511557,  0.85261909, -0.18436395,  0.95851386,\n",
       "        -0.65229435, -0.56295142]), array([-1.,  5.,  4., -3.,  1., -5., -3.]))"
      ]
     },
     "execution_count": 30,
     "metadata": {},
     "output_type": "execute_result"
    }
   ],
   "source": [
    "arr17 = np.random.randn(7) * 5\n",
    "np.modf(arr17)"
   ]
  },
  {
   "cell_type": "code",
   "execution_count": 31,
   "metadata": {
    "ExecuteTime": {
     "end_time": "2019-03-12T01:19:23.845193Z",
     "start_time": "2019-03-12T01:19:23.835200Z"
    }
   },
   "outputs": [
    {
     "data": {
      "text/plain": [
       "array([-1.8653945 ,  5.93511557,  4.85261909, -3.18436395,  1.95851386,\n",
       "       -5.65229435, -3.56295142])"
      ]
     },
     "execution_count": 31,
     "metadata": {},
     "output_type": "execute_result"
    }
   ],
   "source": [
    "arr17"
   ]
  },
  {
   "cell_type": "markdown",
   "metadata": {},
   "source": [
    "1. 一元ufunc\n",
    "\n",
    "|函数 | 说明 |\n",
    "|:-------|:-------------------------------:|\n",
    "|abs,fabs|计算整数、浮点数或复数的绝对值|\n",
    "|sqrt|计算个元素的平方根|\n",
    "|square|计算各元素的平方|\n",
    "|exp|指数|\n",
    "|log, log10, log2, log1p|对数|\n",
    "|sign|计算各元素的正负号|\n",
    "|ceil|ceiling 值|\n",
    "|floor|floor值|\n",
    "|rint|四舍五入|\n",
    "|modf|返回小数部分和整数部分两个数组|\n",
    "|isnan|哪些元素不是数字的布尔型数组|\n",
    "|isfinite,isinf|有穷，无穷的布尔型数组|\n",
    "|cos,cosh, sin, sinh, tan, tanh|普通型和双曲型三角函数|\n",
    "\n",
    "2. 二元ufunc\n",
    "\n",
    "| 函数   | 说明    |\n",
    "|:---------:|:----------:|\n",
    "|add      | 数组中对应元素相加|\n",
    "|subtract  |从第一个数组中减去第二个数组中的元素|\n",
    "|multiply  |对应元素相称|\n",
    "|divide, floor_divide|除法或向下圆整除法|\n",
    "|power   |第一个数组元素的第二个数组元素次幂$A^B$|\n",
    "|maximum,fmax|元素级最大值，fmax将忽略NaN|"
   ]
  },
  {
   "cell_type": "markdown",
   "metadata": {},
   "source": [
    "## 3. 利用数组进行数据处理\n",
    "NumPy可以将许多数据处理任务表述为简介的数组表达式，从而避免写循环，通常称之为(**矢量化**）。矢量化数组运算要比等价的纯Python方式快一两个数量级，甚至更多，尤其是各种数值计算。"
   ]
  },
  {
   "cell_type": "code",
   "execution_count": 32,
   "metadata": {
    "ExecuteTime": {
     "end_time": "2019-03-12T01:23:38.680306Z",
     "start_time": "2019-03-12T01:23:38.673312Z"
    }
   },
   "outputs": [],
   "source": [
    "points = np.arange(-5, 5, 0.01)    # 1000个间隔相等的点"
   ]
  },
  {
   "cell_type": "code",
   "execution_count": 33,
   "metadata": {
    "ExecuteTime": {
     "end_time": "2019-03-12T01:25:03.270776Z",
     "start_time": "2019-03-12T01:25:03.226802Z"
    }
   },
   "outputs": [],
   "source": [
    "xs, ys = np.meshgrid(points, points)    # 接受两个一维数组，产生两个二维数组"
   ]
  },
  {
   "cell_type": "code",
   "execution_count": 34,
   "metadata": {
    "ExecuteTime": {
     "end_time": "2019-03-12T01:25:09.328074Z",
     "start_time": "2019-03-12T01:25:09.116195Z"
    }
   },
   "outputs": [
    {
     "data": {
      "text/plain": [
       "array([[-5.  , -5.  , -5.  , ..., -5.  , -5.  , -5.  ],\n",
       "       [-4.99, -4.99, -4.99, ..., -4.99, -4.99, -4.99],\n",
       "       [-4.98, -4.98, -4.98, ..., -4.98, -4.98, -4.98],\n",
       "       ...,\n",
       "       [ 4.97,  4.97,  4.97, ...,  4.97,  4.97,  4.97],\n",
       "       [ 4.98,  4.98,  4.98, ...,  4.98,  4.98,  4.98],\n",
       "       [ 4.99,  4.99,  4.99, ...,  4.99,  4.99,  4.99]])"
      ]
     },
     "execution_count": 34,
     "metadata": {},
     "output_type": "execute_result"
    }
   ],
   "source": [
    "ys"
   ]
  },
  {
   "cell_type": "code",
   "execution_count": 35,
   "metadata": {
    "ExecuteTime": {
     "end_time": "2019-03-12T01:25:14.251775Z",
     "start_time": "2019-03-12T01:25:14.242781Z"
    }
   },
   "outputs": [
    {
     "data": {
      "text/plain": [
       "array([[-5.  , -4.99, -4.98, ...,  4.97,  4.98,  4.99],\n",
       "       [-5.  , -4.99, -4.98, ...,  4.97,  4.98,  4.99],\n",
       "       [-5.  , -4.99, -4.98, ...,  4.97,  4.98,  4.99],\n",
       "       ...,\n",
       "       [-5.  , -4.99, -4.98, ...,  4.97,  4.98,  4.99],\n",
       "       [-5.  , -4.99, -4.98, ...,  4.97,  4.98,  4.99],\n",
       "       [-5.  , -4.99, -4.98, ...,  4.97,  4.98,  4.99]])"
      ]
     },
     "execution_count": 35,
     "metadata": {},
     "output_type": "execute_result"
    }
   ],
   "source": [
    "xs"
   ]
  },
  {
   "cell_type": "code",
   "execution_count": 36,
   "metadata": {
    "ExecuteTime": {
     "end_time": "2019-03-12T01:25:22.507757Z",
     "start_time": "2019-03-12T01:25:21.879118Z"
    }
   },
   "outputs": [
    {
     "data": {
      "text/plain": [
       "array([[7.07106781, 7.06400028, 7.05693985, ..., 7.04988652, 7.05693985,\n",
       "        7.06400028],\n",
       "       [7.06400028, 7.05692568, 7.04985815, ..., 7.04279774, 7.04985815,\n",
       "        7.05692568],\n",
       "       [7.05693985, 7.04985815, 7.04278354, ..., 7.03571603, 7.04278354,\n",
       "        7.04985815],\n",
       "       ...,\n",
       "       [7.04988652, 7.04279774, 7.03571603, ..., 7.0286414 , 7.03571603,\n",
       "        7.04279774],\n",
       "       [7.05693985, 7.04985815, 7.04278354, ..., 7.03571603, 7.04278354,\n",
       "        7.04985815],\n",
       "       [7.06400028, 7.05692568, 7.04985815, ..., 7.04279774, 7.04985815,\n",
       "        7.05692568]])"
      ]
     },
     "execution_count": 36,
     "metadata": {},
     "output_type": "execute_result"
    }
   ],
   "source": [
    "z = np.sqrt((xs**2 + ys**2))\n",
    "z"
   ]
  },
  {
   "cell_type": "code",
   "execution_count": 56,
   "metadata": {
    "ExecuteTime": {
     "end_time": "2019-03-12T01:49:16.662027Z",
     "start_time": "2019-03-12T01:49:16.354205Z"
    }
   },
   "outputs": [
    {
     "name": "stdout",
     "output_type": "stream",
     "text": [
      "Using matplotlib backend: Qt5Agg\n"
     ]
    }
   ],
   "source": [
    "import matplotlib.pyplot as plt\n",
    "%matplotlib#inline\n",
    "plt.imshow(z, cmap=plt.cm.gray)\n",
    "plt.colorbar()\n",
    "plt.title(\"Image plot of $\\sqrt{x^2 + y^2}$ for a grid of values\")\n",
    "plt.show()"
   ]
  },
  {
   "cell_type": "markdown",
   "metadata": {},
   "source": [
    "### 3.1 将条件逻辑表述为数组运算\n",
    "`numpy.where`函数是三元表达式`x if condition els y`的矢量化版本。"
   ]
  },
  {
   "cell_type": "code",
   "execution_count": 43,
   "metadata": {
    "ExecuteTime": {
     "end_time": "2019-03-12T01:29:44.186061Z",
     "start_time": "2019-03-12T01:29:44.177066Z"
    }
   },
   "outputs": [],
   "source": [
    "xarr = np.array([1.1, 1.2, 1.3, 1.4, 1.5])\n",
    "yarr = np.array([2.1, 2.2, 2.3, 2.4, 2.5])\n",
    "cond = np.array([True, False, True, True, False])"
   ]
  },
  {
   "cell_type": "markdown",
   "metadata": {},
   "source": [
    "假设根据cond的值选取xarr或yarr的值：当cond中的值为True时，选取xarr，否则从yarr选取。列表生成式写法如下："
   ]
  },
  {
   "cell_type": "code",
   "execution_count": 44,
   "metadata": {
    "ExecuteTime": {
     "end_time": "2019-03-12T01:29:48.620079Z",
     "start_time": "2019-03-12T01:29:48.612085Z"
    }
   },
   "outputs": [],
   "source": [
    "result = [(x if c else y) for x,y,c in zip(xarr,yarr,cond)]"
   ]
  },
  {
   "cell_type": "code",
   "execution_count": 45,
   "metadata": {
    "ExecuteTime": {
     "end_time": "2019-03-12T01:29:51.299775Z",
     "start_time": "2019-03-12T01:29:51.244812Z"
    }
   },
   "outputs": [
    {
     "data": {
      "text/plain": [
       "[1.1, 2.2, 1.3, 1.4, 2.5]"
      ]
     },
     "execution_count": 45,
     "metadata": {},
     "output_type": "execute_result"
    }
   ],
   "source": [
    "result"
   ]
  },
  {
   "cell_type": "markdown",
   "metadata": {},
   "source": [
    "上述写法存在几个问题：\n",
    "1. 对大数组的处理速度不是很快，因为都是由纯Python完成\n",
    "2. 无法用于多维数组。\n",
    "\n",
    "若使用`np.where`则更简洁："
   ]
  },
  {
   "cell_type": "code",
   "execution_count": 46,
   "metadata": {
    "ExecuteTime": {
     "end_time": "2019-03-12T01:34:37.442797Z",
     "start_time": "2019-03-12T01:34:37.433800Z"
    }
   },
   "outputs": [
    {
     "data": {
      "text/plain": [
       "array([1.1, 0. , 1.3, 1.4, 0. ])"
      ]
     },
     "execution_count": 46,
     "metadata": {},
     "output_type": "execute_result"
    }
   ],
   "source": [
    "result = np.where(cond, xarr, 0)\n",
    "result"
   ]
  },
  {
   "cell_type": "markdown",
   "metadata": {},
   "source": [
    "+ `np.where`的第二个和第三个参数不必是数组，都可以是标量。\n",
    "+ `np.where`通常用于根据一个数组而产生一个新的数组。\n",
    "\n",
    "假设有一个随机数组成的矩阵，将所有的正值替换为2，所有的负值替换为-2。则"
   ]
  },
  {
   "cell_type": "code",
   "execution_count": 47,
   "metadata": {
    "ExecuteTime": {
     "end_time": "2019-03-12T01:36:56.949536Z",
     "start_time": "2019-03-12T01:36:56.935563Z"
    }
   },
   "outputs": [
    {
     "data": {
      "text/plain": [
       "array([[-1.37844181, -0.98501641, -0.11127629, -0.65609163],\n",
       "       [ 0.79734585, -0.65142169, -0.01045893,  0.10219497],\n",
       "       [ 1.91769513, -0.53491889,  0.05390929, -0.51607642],\n",
       "       [-1.16037789, -1.67134049,  0.10348399, -0.48332041]])"
      ]
     },
     "execution_count": 47,
     "metadata": {},
     "output_type": "execute_result"
    }
   ],
   "source": [
    "arr18 = np.random.randn(4,4)\n",
    "arr18"
   ]
  },
  {
   "cell_type": "code",
   "execution_count": 48,
   "metadata": {
    "ExecuteTime": {
     "end_time": "2019-03-12T01:37:00.829968Z",
     "start_time": "2019-03-12T01:37:00.816975Z"
    }
   },
   "outputs": [
    {
     "data": {
      "text/plain": [
       "array([[-2, -2, -2, -2],\n",
       "       [ 2, -2, -2,  2],\n",
       "       [ 2, -2,  2, -2],\n",
       "       [-2, -2,  2, -2]])"
      ]
     },
     "execution_count": 48,
     "metadata": {},
     "output_type": "execute_result"
    }
   ],
   "source": [
    "np.where(arr18 > 0, 2, -2)"
   ]
  },
  {
   "cell_type": "code",
   "execution_count": 49,
   "metadata": {
    "ExecuteTime": {
     "end_time": "2019-03-12T01:37:05.476028Z",
     "start_time": "2019-03-12T01:37:05.466034Z"
    },
    "scrolled": true
   },
   "outputs": [
    {
     "data": {
      "text/plain": [
       "array([[-1.37844181, -0.98501641, -0.11127629, -0.65609163],\n",
       "       [ 2.        , -0.65142169, -0.01045893,  2.        ],\n",
       "       [ 2.        , -0.53491889,  2.        , -0.51607642],\n",
       "       [-1.16037789, -1.67134049,  2.        , -0.48332041]])"
      ]
     },
     "execution_count": 49,
     "metadata": {},
     "output_type": "execute_result"
    }
   ],
   "source": [
    "np.where(arr18 > 0, 2, arr18)"
   ]
  },
  {
   "cell_type": "markdown",
   "metadata": {},
   "source": [
    "+ <span class=\"girk\">传递给`np.where`的数组大小可以不相等，甚至是标量。</span>\n",
    "+ `np.where`可以嵌套,例如：`np.where(cond1 & cond2, 0, (np.where(cond1, 1, np.where(cond2, 2, 3)))`"
   ]
  },
  {
   "cell_type": "markdown",
   "metadata": {},
   "source": [
    "### 3.2 数学和统计方法\n",
    "+ 可以通过数组上的一组函数对整个数组或某个轴向的数据进行统计计算。\n",
    "+ `sum`,`mean`以及标准差`std`等聚合计算既可以当作数组的实例方法调用，也可以当作顶级NumPy函数使用。"
   ]
  },
  {
   "cell_type": "code",
   "execution_count": 51,
   "metadata": {
    "ExecuteTime": {
     "end_time": "2019-03-12T01:43:38.538077Z",
     "start_time": "2019-03-12T01:43:38.524089Z"
    }
   },
   "outputs": [
    {
     "data": {
      "text/plain": [
       "array([[-0.86677047,  0.59253314, -0.53663886, -0.16491753],\n",
       "       [ 1.15312143, -0.11633802, -0.43477178,  2.23195257],\n",
       "       [ 0.34690415,  1.12031544,  1.61043648,  0.894664  ],\n",
       "       [-1.66792187, -0.81339513,  0.3609651 ,  1.16925085],\n",
       "       [-1.52836162, -1.61283996,  0.62438931,  0.87464145]])"
      ]
     },
     "execution_count": 51,
     "metadata": {},
     "output_type": "execute_result"
    }
   ],
   "source": [
    "arr19 = np.random.randn(5, 4)\n",
    "arr19"
   ]
  },
  {
   "cell_type": "code",
   "execution_count": 52,
   "metadata": {
    "ExecuteTime": {
     "end_time": "2019-03-12T01:43:49.421957Z",
     "start_time": "2019-03-12T01:43:49.371984Z"
    }
   },
   "outputs": [
    {
     "data": {
      "text/plain": [
       "0.16186093327762938"
      ]
     },
     "execution_count": 52,
     "metadata": {},
     "output_type": "execute_result"
    }
   ],
   "source": [
    "arr19.mean()"
   ]
  },
  {
   "cell_type": "code",
   "execution_count": 53,
   "metadata": {
    "ExecuteTime": {
     "end_time": "2019-03-12T01:44:22.045317Z",
     "start_time": "2019-03-12T01:44:22.036323Z"
    }
   },
   "outputs": [
    {
     "data": {
      "text/plain": [
       "0.16186093327762938"
      ]
     },
     "execution_count": 53,
     "metadata": {},
     "output_type": "execute_result"
    }
   ],
   "source": [
    "np.mean(arr19)"
   ]
  },
  {
   "cell_type": "code",
   "execution_count": 54,
   "metadata": {
    "ExecuteTime": {
     "end_time": "2019-03-12T01:45:13.013708Z",
     "start_time": "2019-03-12T01:45:13.001720Z"
    }
   },
   "outputs": [
    {
     "data": {
      "text/plain": [
       "3.2372186655525876"
      ]
     },
     "execution_count": 54,
     "metadata": {},
     "output_type": "execute_result"
    }
   ],
   "source": [
    "arr19.sum()"
   ]
  },
  {
   "cell_type": "markdown",
   "metadata": {},
   "source": [
    "+ `mean`和`sum`这类函数可以接受一个axis参数，用于计算该轴上的统计值。最终结果是一个少一维的数组。"
   ]
  },
  {
   "cell_type": "code",
   "execution_count": 55,
   "metadata": {
    "ExecuteTime": {
     "end_time": "2019-03-12T01:46:30.627186Z",
     "start_time": "2019-03-12T01:46:30.615201Z"
    }
   },
   "outputs": [
    {
     "data": {
      "text/plain": [
       "array([-0.24394843,  0.70849105,  0.99308001, -0.23777526, -0.4105427 ])"
      ]
     },
     "execution_count": 55,
     "metadata": {},
     "output_type": "execute_result"
    }
   ],
   "source": [
    "arr19.mean(axis = 1)#按水平方向计算均值"
   ]
  },
  {
   "cell_type": "code",
   "execution_count": 57,
   "metadata": {
    "ExecuteTime": {
     "end_time": "2019-03-12T01:54:19.385770Z",
     "start_time": "2019-03-12T01:54:19.375782Z"
    }
   },
   "outputs": [
    {
     "data": {
      "text/plain": [
       "array([-0.51260568, -0.16594491,  0.32487605,  1.00111827])"
      ]
     },
     "execution_count": 57,
     "metadata": {},
     "output_type": "execute_result"
    }
   ],
   "source": [
    "arr19.mean(axis=0)#按垂直方向计算均值"
   ]
  },
  {
   "cell_type": "code",
   "execution_count": 58,
   "metadata": {
    "ExecuteTime": {
     "end_time": "2019-03-12T01:54:31.290796Z",
     "start_time": "2019-03-12T01:54:31.280808Z"
    }
   },
   "outputs": [
    {
     "data": {
      "text/plain": [
       "array([-2.56302838, -0.82972453,  1.62438024,  5.00559133])"
      ]
     },
     "execution_count": 58,
     "metadata": {},
     "output_type": "execute_result"
    }
   ],
   "source": [
    "arr19.sum(0)"
   ]
  },
  {
   "cell_type": "markdown",
   "metadata": {},
   "source": [
    "+ 其它如`cumsum`和`cumprod`之类的方法则不聚合，而是产生一个由中间结果组成的数组。"
   ]
  },
  {
   "cell_type": "code",
   "execution_count": 61,
   "metadata": {
    "ExecuteTime": {
     "end_time": "2019-03-12T02:06:07.090555Z",
     "start_time": "2019-03-12T02:06:07.079561Z"
    }
   },
   "outputs": [
    {
     "data": {
      "text/plain": [
       "array([[ 0,  1,  2],\n",
       "       [ 3,  5,  7],\n",
       "       [ 9, 12, 15]], dtype=int32)"
      ]
     },
     "execution_count": 61,
     "metadata": {},
     "output_type": "execute_result"
    }
   ],
   "source": [
    "arr20 = np.array([[0, 1, 2], [3, 4, 5], [6, 7, 8]])\n",
    "arr20.cumsum(0)"
   ]
  },
  {
   "cell_type": "code",
   "execution_count": 60,
   "metadata": {
    "ExecuteTime": {
     "end_time": "2019-03-12T02:05:18.695315Z",
     "start_time": "2019-03-12T02:05:18.643344Z"
    }
   },
   "outputs": [
    {
     "data": {
      "text/plain": [
       "array([[  0,   0,   0],\n",
       "       [  3,  12,  60],\n",
       "       [  6,  42, 336]], dtype=int32)"
      ]
     },
     "execution_count": 60,
     "metadata": {},
     "output_type": "execute_result"
    }
   ],
   "source": [
    "arr20.cumprod(axis = 1)"
   ]
  },
  {
   "cell_type": "markdown",
   "metadata": {},
   "source": [
    "基本数组统计方法，表。"
   ]
  },
  {
   "cell_type": "markdown",
   "metadata": {},
   "source": [
    "### 3.3 用于布尔型数组的方法\n",
    "在前述方法中，布尔值会被强制转换为1(`True`)和0(`False`)。因此`sum`经常被用于对布尔型数组中的True值计数。"
   ]
  },
  {
   "cell_type": "code",
   "execution_count": 62,
   "metadata": {
    "ExecuteTime": {
     "end_time": "2019-03-12T02:10:46.041579Z",
     "start_time": "2019-03-12T02:10:46.028586Z"
    }
   },
   "outputs": [
    {
     "data": {
      "text/plain": [
       "49"
      ]
     },
     "execution_count": 62,
     "metadata": {},
     "output_type": "execute_result"
    }
   ],
   "source": [
    "arr21 = np.random.randn(100)\n",
    "(arr21 > 0).sum()     # 正值的个数"
   ]
  },
  {
   "cell_type": "code",
   "execution_count": 63,
   "metadata": {
    "ExecuteTime": {
     "end_time": "2019-03-12T02:10:58.529917Z",
     "start_time": "2019-03-12T02:10:58.521923Z"
    }
   },
   "outputs": [
    {
     "data": {
      "text/plain": [
       "49"
      ]
     },
     "execution_count": 63,
     "metadata": {},
     "output_type": "execute_result"
    }
   ],
   "source": [
    "(arr21> 0).sum()"
   ]
  },
  {
   "cell_type": "markdown",
   "metadata": {},
   "source": [
    "+ 方法`any`和`all`对布尔型数组也非常有用：`any`用于测试数组中是否存在一个或多个`True`， 而`all`则检查数组中所有值是否都是`True`。\n",
    "+ 这两个方法也可以用于非布尔型数组，<span class=\"mark\">所有非零元素都会被当作</span>`True`。"
   ]
  },
  {
   "cell_type": "code",
   "execution_count": 65,
   "metadata": {
    "ExecuteTime": {
     "end_time": "2019-03-12T02:17:56.623592Z",
     "start_time": "2019-03-12T02:17:56.612598Z"
    }
   },
   "outputs": [
    {
     "data": {
      "text/plain": [
       "True"
      ]
     },
     "execution_count": 65,
     "metadata": {},
     "output_type": "execute_result"
    }
   ],
   "source": [
    "bools = np.array([False, False, True, False])\n",
    "bools.any()"
   ]
  },
  {
   "cell_type": "code",
   "execution_count": 66,
   "metadata": {
    "ExecuteTime": {
     "end_time": "2019-03-12T02:18:17.841762Z",
     "start_time": "2019-03-12T02:18:17.830768Z"
    }
   },
   "outputs": [
    {
     "data": {
      "text/plain": [
       "False"
      ]
     },
     "execution_count": 66,
     "metadata": {},
     "output_type": "execute_result"
    }
   ],
   "source": [
    "bools.all()"
   ]
  },
  {
   "cell_type": "code",
   "execution_count": 67,
   "metadata": {
    "ExecuteTime": {
     "end_time": "2019-03-12T02:18:22.538780Z",
     "start_time": "2019-03-12T02:18:22.526787Z"
    }
   },
   "outputs": [
    {
     "data": {
      "text/plain": [
       "True"
      ]
     },
     "execution_count": 67,
     "metadata": {},
     "output_type": "execute_result"
    }
   ],
   "source": [
    "data3 = np.array([1.1, 1.2, 0, 2, 3])\n",
    "data3.any()"
   ]
  },
  {
   "cell_type": "code",
   "execution_count": 68,
   "metadata": {
    "ExecuteTime": {
     "end_time": "2019-03-12T02:18:26.991119Z",
     "start_time": "2019-03-12T02:18:26.981127Z"
    }
   },
   "outputs": [
    {
     "data": {
      "text/plain": [
       "False"
      ]
     },
     "execution_count": 68,
     "metadata": {},
     "output_type": "execute_result"
    }
   ],
   "source": [
    "data3.all()"
   ]
  },
  {
   "cell_type": "markdown",
   "metadata": {},
   "source": [
    "### 3.4 排序\n",
    "跟Python内置的列表类型一样，NumPy数组也可以通过sort方法就地进行排序。"
   ]
  },
  {
   "cell_type": "code",
   "execution_count": 69,
   "metadata": {
    "ExecuteTime": {
     "end_time": "2019-03-12T02:20:08.611416Z",
     "start_time": "2019-03-12T02:20:08.600420Z"
    }
   },
   "outputs": [
    {
     "data": {
      "text/plain": [
       "array([ 1.09862518,  0.47403422, -2.7436396 , -1.16061426,  0.80472361,\n",
       "       -0.71825208, -0.87094065, -0.3492217 ])"
      ]
     },
     "execution_count": 69,
     "metadata": {},
     "output_type": "execute_result"
    }
   ],
   "source": [
    "arr22 = np.random.randn(8)\n",
    "arr22"
   ]
  },
  {
   "cell_type": "code",
   "execution_count": 70,
   "metadata": {
    "ExecuteTime": {
     "end_time": "2019-03-12T02:20:14.502935Z",
     "start_time": "2019-03-12T02:20:14.473950Z"
    }
   },
   "outputs": [],
   "source": [
    "arr22.sort()"
   ]
  },
  {
   "cell_type": "code",
   "execution_count": 71,
   "metadata": {
    "ExecuteTime": {
     "end_time": "2019-03-12T02:20:18.500845Z",
     "start_time": "2019-03-12T02:20:18.490850Z"
    }
   },
   "outputs": [
    {
     "data": {
      "text/plain": [
       "array([-2.7436396 , -1.16061426, -0.87094065, -0.71825208, -0.3492217 ,\n",
       "        0.47403422,  0.80472361,  1.09862518])"
      ]
     },
     "execution_count": 71,
     "metadata": {},
     "output_type": "execute_result"
    }
   ],
   "source": [
    "arr22"
   ]
  },
  {
   "cell_type": "markdown",
   "metadata": {},
   "source": [
    "+ 多维数组可以在任何一个轴上进行排序，只需将轴编号作为参数传入`sort`即可："
   ]
  },
  {
   "cell_type": "code",
   "execution_count": 72,
   "metadata": {
    "ExecuteTime": {
     "end_time": "2019-03-12T02:20:29.569117Z",
     "start_time": "2019-03-12T02:20:29.557122Z"
    }
   },
   "outputs": [
    {
     "data": {
      "text/plain": [
       "array([[-1.24224882, -0.56713183,  1.20565033],\n",
       "       [ 1.23255264, -0.11770557, -1.16221632],\n",
       "       [ 0.68662892, -1.24725251,  1.36722165],\n",
       "       [-0.69005286,  1.65341461,  2.52127185],\n",
       "       [ 0.82538645, -1.45316981, -0.69988151]])"
      ]
     },
     "execution_count": 72,
     "metadata": {},
     "output_type": "execute_result"
    }
   ],
   "source": [
    "arr23 = np.random.randn(5,3)\n",
    "arr23"
   ]
  },
  {
   "cell_type": "code",
   "execution_count": 73,
   "metadata": {
    "ExecuteTime": {
     "end_time": "2019-03-12T02:20:37.433031Z",
     "start_time": "2019-03-12T02:20:37.427035Z"
    }
   },
   "outputs": [],
   "source": [
    "arr23.sort(axis=0)"
   ]
  },
  {
   "cell_type": "code",
   "execution_count": 74,
   "metadata": {
    "ExecuteTime": {
     "end_time": "2019-03-12T02:20:40.266715Z",
     "start_time": "2019-03-12T02:20:40.255723Z"
    }
   },
   "outputs": [
    {
     "data": {
      "text/plain": [
       "array([[-1.24224882, -1.45316981, -1.16221632],\n",
       "       [-0.69005286, -1.24725251, -0.69988151],\n",
       "       [ 0.68662892, -0.56713183,  1.20565033],\n",
       "       [ 0.82538645, -0.11770557,  1.36722165],\n",
       "       [ 1.23255264,  1.65341461,  2.52127185]])"
      ]
     },
     "execution_count": 74,
     "metadata": {},
     "output_type": "execute_result"
    }
   ],
   "source": [
    "arr23"
   ]
  },
  {
   "cell_type": "markdown",
   "metadata": {},
   "source": [
    "+ 顶级方法sort返回的是数组的已排序副本，而就地排序则会修改数组本身。\n",
    "+ 计算数组分位数最简单的办法就是对数组进行排序，然后选取特定位置的值。"
   ]
  },
  {
   "cell_type": "code",
   "execution_count": 75,
   "metadata": {
    "ExecuteTime": {
     "end_time": "2019-03-12T02:38:44.427148Z",
     "start_time": "2019-03-12T02:38:44.411158Z"
    }
   },
   "outputs": [
    {
     "data": {
      "text/plain": [
       "-1.6384442278839189"
      ]
     },
     "execution_count": 75,
     "metadata": {},
     "output_type": "execute_result"
    }
   ],
   "source": [
    "large_arr = np.random.randn(1000)\n",
    "large_arr.sort()\n",
    "large_arr[int(0.05 * len(large_arr))]    # 5%分位数"
   ]
  },
  {
   "cell_type": "markdown",
   "metadata": {},
   "source": [
    "### 3.5 唯一化以及其他的一些集合逻辑\n",
    "NumPy提供一些针对一维ndarray的基本集合运算。譬如，`np.unique`,找出数组中的唯一值并返回已排序的结果。"
   ]
  },
  {
   "cell_type": "code",
   "execution_count": 76,
   "metadata": {
    "ExecuteTime": {
     "end_time": "2019-03-12T02:43:32.075371Z",
     "start_time": "2019-03-12T02:43:32.066376Z"
    }
   },
   "outputs": [],
   "source": [
    "names = np.array(['Bob', 'Joe', 'Will', 'Bob', 'Will', 'Joe', 'Joe'])"
   ]
  },
  {
   "cell_type": "code",
   "execution_count": 77,
   "metadata": {
    "ExecuteTime": {
     "end_time": "2019-03-12T02:43:36.831482Z",
     "start_time": "2019-03-12T02:43:36.655581Z"
    }
   },
   "outputs": [
    {
     "data": {
      "text/plain": [
       "array(['Bob', 'Joe', 'Will'], dtype='<U4')"
      ]
     },
     "execution_count": 77,
     "metadata": {},
     "output_type": "execute_result"
    }
   ],
   "source": [
    "np.unique(names)"
   ]
  },
  {
   "cell_type": "code",
   "execution_count": 78,
   "metadata": {
    "ExecuteTime": {
     "end_time": "2019-03-12T02:47:50.430807Z",
     "start_time": "2019-03-12T02:47:50.368844Z"
    }
   },
   "outputs": [
    {
     "data": {
      "text/plain": [
       "array([1, 2, 3, 4])"
      ]
     },
     "execution_count": 78,
     "metadata": {},
     "output_type": "execute_result"
    }
   ],
   "source": [
    "ints = np.array([3,3,3,2,2,1,1,4,4])\n",
    "np.unique(ints)"
   ]
  },
  {
   "cell_type": "code",
   "execution_count": 79,
   "metadata": {
    "ExecuteTime": {
     "end_time": "2019-03-12T02:51:21.326518Z",
     "start_time": "2019-03-12T02:51:21.269551Z"
    }
   },
   "outputs": [
    {
     "data": {
      "text/plain": [
       "['Bob', 'Joe', 'Will']"
      ]
     },
     "execution_count": 79,
     "metadata": {},
     "output_type": "execute_result"
    }
   ],
   "source": [
    "sorted(set(names))"
   ]
  },
  {
   "cell_type": "markdown",
   "metadata": {},
   "source": [
    "+ 函数np.in1d用于测试一个数组中的值在另一个数组中的成员资格，返回一个布尔型数组。"
   ]
  },
  {
   "cell_type": "code",
   "execution_count": 80,
   "metadata": {
    "ExecuteTime": {
     "end_time": "2019-03-12T02:51:33.007553Z",
     "start_time": "2019-03-12T02:51:33.000561Z"
    }
   },
   "outputs": [],
   "source": [
    "values = np.array([6, 0, 0, 3, 2, 5, 6])"
   ]
  },
  {
   "cell_type": "code",
   "execution_count": 81,
   "metadata": {
    "ExecuteTime": {
     "end_time": "2019-03-12T02:51:36.167673Z",
     "start_time": "2019-03-12T02:51:36.056739Z"
    }
   },
   "outputs": [
    {
     "data": {
      "text/plain": [
       "array([ True, False, False,  True,  True, False,  True])"
      ]
     },
     "execution_count": 81,
     "metadata": {},
     "output_type": "execute_result"
    }
   ],
   "source": [
    "np.in1d(values, [2, 3, 6])"
   ]
  },
  {
   "cell_type": "markdown",
   "metadata": {},
   "source": [
    "数组的集合运算函数表："
   ]
  },
  {
   "cell_type": "code",
   "execution_count": null,
   "metadata": {
    "collapsed": true
   },
   "outputs": [],
   "source": []
  },
  {
   "cell_type": "markdown",
   "metadata": {},
   "source": [
    "## 4. 用于数组的文件输入输出\n",
    "NumPy能够读写磁盘上的文本数据或二进制数据。后面讲到的pandas用于将表格型数据读取到内存中。"
   ]
  },
  {
   "cell_type": "markdown",
   "metadata": {},
   "source": [
    "### 4.1 将数组以二进制格式保存到磁盘\n",
    "`np.save` 和 `np.load`是读写磁盘数组的两个主要函数。默认情况下，数组是以未压缩的原始二进制格式保存在扩展名为 *.npy* 的文件中。"
   ]
  },
  {
   "cell_type": "code",
   "execution_count": null,
   "metadata": {
    "collapsed": true
   },
   "outputs": [],
   "source": [
    "arr24 = np.arange(10)\n",
    "np.save('arr24', arr24)"
   ]
  },
  {
   "cell_type": "code",
   "execution_count": null,
   "metadata": {
    "collapsed": true
   },
   "outputs": [],
   "source": [
    "ls"
   ]
  },
  {
   "cell_type": "code",
   "execution_count": null,
   "metadata": {
    "collapsed": true
   },
   "outputs": [],
   "source": [
    "np.load('arr24.npy')"
   ]
  },
  {
   "cell_type": "markdown",
   "metadata": {},
   "source": [
    "+ 通过`np.savez`可以将多个数组保存到一个压缩文件中，将数组以关键字参数的形式传入即可：\n",
    "+ 加载 .npz 文件时，会得到一个类似字典的对象。"
   ]
  },
  {
   "cell_type": "code",
   "execution_count": null,
   "metadata": {
    "collapsed": true
   },
   "outputs": [],
   "source": [
    "arr25 = np.random.randn(3, 4)"
   ]
  },
  {
   "cell_type": "code",
   "execution_count": null,
   "metadata": {
    "collapsed": true
   },
   "outputs": [],
   "source": [
    "np.savez('arr_archived.npz', a = arr24, b = arr25)"
   ]
  },
  {
   "cell_type": "code",
   "execution_count": null,
   "metadata": {
    "collapsed": true
   },
   "outputs": [],
   "source": [
    "arch = np.load('arr_archived.npz')\n",
    "arch['b']"
   ]
  },
  {
   "cell_type": "code",
   "execution_count": null,
   "metadata": {
    "collapsed": true
   },
   "outputs": [],
   "source": [
    "arch['a']"
   ]
  },
  {
   "cell_type": "markdown",
   "metadata": {},
   "source": [
    "### 4.2 存取文本文件\n",
    "Python也有文件的读写函数，但并不太易用。因此本课程主要介绍Pandas中的`read_csv`和`read_table`函数，有时也用NumPy的`np.loadtxt`将数据加载到NumPy的数组中。"
   ]
  },
  {
   "cell_type": "code",
   "execution_count": null,
   "metadata": {},
   "outputs": [],
   "source": [
    "arr = np.loadtxt('arr_csv.csv', delimiter=',')"
   ]
  },
  {
   "cell_type": "code",
   "execution_count": null,
   "metadata": {
    "collapsed": true
   },
   "outputs": [],
   "source": [
    "arr"
   ]
  },
  {
   "cell_type": "code",
   "execution_count": null,
   "metadata": {
    "collapsed": true
   },
   "outputs": [],
   "source": [
    "np.savetxt(delimiter='\\t',fname='newsave.csv', X=arr)"
   ]
  },
  {
   "cell_type": "markdown",
   "metadata": {},
   "source": [
    "**更多文件的读写，尤其是表格型数据，采用pandas方法。**"
   ]
  },
  {
   "cell_type": "markdown",
   "metadata": {},
   "source": [
    "## 5. 线性代数\n",
    "线性代数（矩阵乘法、矩阵分解、行列式等）。NumPy提供了一个用于矩阵乘法的 **dot** 函数，既是一个数组的方法，也是numpy命名空间的一个函数。"
   ]
  },
  {
   "cell_type": "code",
   "execution_count": null,
   "metadata": {
    "collapsed": true
   },
   "outputs": [],
   "source": [
    "x = np.array([[1, 2, 3], [4, 5, 6]])\n",
    "y = np.array([[6, 23.], [-1, 7], [8, 9]])"
   ]
  },
  {
   "cell_type": "code",
   "execution_count": null,
   "metadata": {
    "collapsed": true
   },
   "outputs": [],
   "source": [
    "x"
   ]
  },
  {
   "cell_type": "code",
   "execution_count": null,
   "metadata": {
    "collapsed": true
   },
   "outputs": [],
   "source": [
    "y"
   ]
  },
  {
   "cell_type": "code",
   "execution_count": null,
   "metadata": {
    "collapsed": true
   },
   "outputs": [],
   "source": [
    "x.dot(y)"
   ]
  },
  {
   "cell_type": "code",
   "execution_count": null,
   "metadata": {
    "collapsed": true
   },
   "outputs": [],
   "source": [
    "np.dot(x, y)"
   ]
  },
  {
   "cell_type": "code",
   "execution_count": null,
   "metadata": {
    "collapsed": true
   },
   "outputs": [],
   "source": [
    "np.dot(x, np.ones(3))"
   ]
  },
  {
   "cell_type": "markdown",
   "metadata": {},
   "source": [
    "+ `numpy.linalg`中有一组标准的矩阵分解运算，譬如求逆、行列式等。"
   ]
  },
  {
   "cell_type": "code",
   "execution_count": null,
   "metadata": {
    "collapsed": true
   },
   "outputs": [],
   "source": [
    "X = np.random.randn(5,5)"
   ]
  },
  {
   "cell_type": "code",
   "execution_count": null,
   "metadata": {
    "collapsed": true
   },
   "outputs": [],
   "source": [
    "mat = X.T.dot(X)"
   ]
  },
  {
   "cell_type": "code",
   "execution_count": null,
   "metadata": {
    "collapsed": true
   },
   "outputs": [],
   "source": [
    "mat"
   ]
  },
  {
   "cell_type": "code",
   "execution_count": null,
   "metadata": {
    "collapsed": true
   },
   "outputs": [],
   "source": [
    "np.linalg.inv(mat)"
   ]
  },
  {
   "cell_type": "code",
   "execution_count": null,
   "metadata": {
    "collapsed": true
   },
   "outputs": [],
   "source": [
    "mat.dot(np.linalg.inv(mat))"
   ]
  },
  {
   "cell_type": "code",
   "execution_count": null,
   "metadata": {
    "collapsed": true
   },
   "outputs": [],
   "source": [
    "from numpy.linalg import inv, qr\n",
    "inv(mat)"
   ]
  },
  {
   "cell_type": "markdown",
   "metadata": {},
   "source": [
    "常用的`numpy.linalg`函数"
   ]
  },
  {
   "cell_type": "markdown",
   "metadata": {},
   "source": [
    "## 6. 随机数生成\n",
    "+ Python 的random 模块可以用于产生随机数"
   ]
  },
  {
   "cell_type": "code",
   "execution_count": null,
   "metadata": {
    "collapsed": true
   },
   "outputs": [],
   "source": [
    "import random\n",
    "random.random()"
   ]
  },
  {
   "cell_type": "code",
   "execution_count": null,
   "metadata": {
    "collapsed": true
   },
   "outputs": [],
   "source": [
    "random.uniform(1, 5)"
   ]
  },
  {
   "cell_type": "code",
   "execution_count": null,
   "metadata": {
    "collapsed": true
   },
   "outputs": [],
   "source": [
    "random.choice([1, 3, 5, 7, 9])"
   ]
  },
  {
   "cell_type": "code",
   "execution_count": null,
   "metadata": {
    "collapsed": true
   },
   "outputs": [],
   "source": [
    "seq = [2, 4, 6, 8, 10]\n",
    "random.shuffle(seq)\n",
    "seq"
   ]
  },
  {
   "cell_type": "code",
   "execution_count": null,
   "metadata": {
    "collapsed": true
   },
   "outputs": [],
   "source": [
    "samp = random.sample(seq, 3)\n",
    "samp"
   ]
  },
  {
   "cell_type": "markdown",
   "metadata": {},
   "source": [
    "+ `numpy.random`模块对Python内置的random进行了补充，增加了一些高效生产多种概率分布的样本值的函数。"
   ]
  },
  {
   "cell_type": "code",
   "execution_count": null,
   "metadata": {
    "collapsed": true
   },
   "outputs": [],
   "source": [
    "samples = np.random.normal(size=(4, 4))\n",
    "samples"
   ]
  },
  {
   "cell_type": "code",
   "execution_count": 83,
   "metadata": {
    "ExecuteTime": {
     "end_time": "2019-03-12T02:57:11.922664Z",
     "start_time": "2019-03-12T02:57:11.868695Z"
    }
   },
   "outputs": [],
   "source": [
    "N = 1000000"
   ]
  },
  {
   "cell_type": "code",
   "execution_count": 84,
   "metadata": {
    "ExecuteTime": {
     "end_time": "2019-03-12T02:57:16.498702Z",
     "start_time": "2019-03-12T02:57:15.037502Z"
    }
   },
   "outputs": [
    {
     "name": "stdout",
     "output_type": "stream",
     "text": [
      "Wall time: 1.42 s\n"
     ]
    }
   ],
   "source": [
    "%time test = [i**2 for i in range(N)]"
   ]
  },
  {
   "cell_type": "code",
   "execution_count": 85,
   "metadata": {
    "ExecuteTime": {
     "end_time": "2019-03-12T02:57:27.648616Z",
     "start_time": "2019-03-12T02:57:27.641640Z"
    }
   },
   "outputs": [],
   "source": [
    "import random"
   ]
  },
  {
   "cell_type": "code",
   "execution_count": 86,
   "metadata": {
    "ExecuteTime": {
     "end_time": "2019-03-12T02:57:36.508983Z",
     "start_time": "2019-03-12T02:57:32.779236Z"
    }
   },
   "outputs": [
    {
     "name": "stdout",
     "output_type": "stream",
     "text": [
      "384 ms ± 72.6 ms per loop (mean ± std. dev. of 7 runs, 1 loop each)\n"
     ]
    }
   ],
   "source": [
    "%timeit sample1 = [random.random() for _ in range(N)]"
   ]
  },
  {
   "cell_type": "code",
   "execution_count": null,
   "metadata": {
    "collapsed": true
   },
   "outputs": [],
   "source": []
  },
  {
   "cell_type": "code",
   "execution_count": 136,
   "metadata": {},
   "outputs": [
    {
     "name": "stdout",
     "output_type": "stream",
     "text": [
      "16 ms ± 281 µs per loop (mean ± std. dev. of 7 runs, 100 loops each)\n"
     ]
    }
   ],
   "source": [
    "%timeit sample2 = np.random.random(N)"
   ]
  },
  {
   "cell_type": "markdown",
   "metadata": {},
   "source": [
    "部分`numpy.random`函数"
   ]
  },
  {
   "cell_type": "code",
   "execution_count": null,
   "metadata": {
    "collapsed": true
   },
   "outputs": [],
   "source": []
  },
  {
   "cell_type": "markdown",
   "metadata": {},
   "source": [
    "## 7. 范例：随机漫步\n",
    "从0开始，步长1和-1出现的概率相等，实现1000步的随机漫步。"
   ]
  },
  {
   "cell_type": "code",
   "execution_count": 95,
   "metadata": {
    "ExecuteTime": {
     "end_time": "2019-03-12T03:25:36.917607Z",
     "start_time": "2019-03-12T03:25:36.900621Z"
    }
   },
   "outputs": [],
   "source": [
    "import random\n",
    "import numpy as np\n",
    "position=0\n",
    "walk=[position]\n",
    "steps=1000\n",
    "for i in range(steps):\n",
    "    step=1 if random.randint(0,1) else -1\n",
    "    position += step\n",
    "    walk.append(position)"
   ]
  },
  {
   "cell_type": "code",
   "execution_count": 96,
   "metadata": {
    "ExecuteTime": {
     "end_time": "2019-03-12T03:25:46.500648Z",
     "start_time": "2019-03-12T03:25:46.462672Z"
    }
   },
   "outputs": [
    {
     "data": {
      "text/plain": [
       "[0,\n",
       " -1,\n",
       " 0,\n",
       " 1,\n",
       " 2,\n",
       " 3,\n",
       " 2,\n",
       " 1,\n",
       " 2,\n",
       " 3,\n",
       " 4,\n",
       " 3,\n",
       " 2,\n",
       " 1,\n",
       " 0,\n",
       " -1,\n",
       " -2,\n",
       " -3,\n",
       " -4,\n",
       " -5,\n",
       " -4,\n",
       " -3,\n",
       " -4,\n",
       " -3,\n",
       " -4,\n",
       " -5,\n",
       " -4,\n",
       " -5,\n",
       " -6,\n",
       " -7,\n",
       " -6,\n",
       " -7,\n",
       " -8,\n",
       " -7,\n",
       " -6,\n",
       " -5,\n",
       " -4,\n",
       " -3,\n",
       " -2,\n",
       " -1,\n",
       " -2,\n",
       " -3,\n",
       " -2,\n",
       " -3,\n",
       " -2,\n",
       " -3,\n",
       " -2,\n",
       " -1,\n",
       " 0,\n",
       " -1,\n",
       " -2,\n",
       " -1,\n",
       " -2,\n",
       " -3,\n",
       " -4,\n",
       " -3,\n",
       " -2,\n",
       " -1,\n",
       " 0,\n",
       " 1,\n",
       " 0,\n",
       " -1,\n",
       " -2,\n",
       " -1,\n",
       " 0,\n",
       " -1,\n",
       " 0,\n",
       " 1,\n",
       " 0,\n",
       " 1,\n",
       " 2,\n",
       " 3,\n",
       " 4,\n",
       " 5,\n",
       " 6,\n",
       " 7,\n",
       " 8,\n",
       " 9,\n",
       " 10,\n",
       " 11,\n",
       " 10,\n",
       " 11,\n",
       " 10,\n",
       " 11,\n",
       " 12,\n",
       " 13,\n",
       " 14,\n",
       " 13,\n",
       " 12,\n",
       " 13,\n",
       " 14,\n",
       " 15,\n",
       " 16,\n",
       " 17,\n",
       " 18,\n",
       " 17,\n",
       " 16,\n",
       " 17,\n",
       " 18,\n",
       " 17,\n",
       " 16,\n",
       " 15,\n",
       " 16,\n",
       " 15,\n",
       " 14,\n",
       " 15,\n",
       " 16,\n",
       " 17,\n",
       " 16,\n",
       " 17,\n",
       " 16,\n",
       " 17,\n",
       " 16,\n",
       " 15,\n",
       " 14,\n",
       " 15,\n",
       " 14,\n",
       " 13,\n",
       " 12,\n",
       " 11,\n",
       " 10,\n",
       " 11,\n",
       " 10,\n",
       " 11,\n",
       " 12,\n",
       " 11,\n",
       " 12,\n",
       " 13,\n",
       " 14,\n",
       " 15,\n",
       " 14,\n",
       " 15,\n",
       " 14,\n",
       " 13,\n",
       " 14,\n",
       " 13,\n",
       " 12,\n",
       " 11,\n",
       " 12,\n",
       " 13,\n",
       " 14,\n",
       " 13,\n",
       " 12,\n",
       " 11,\n",
       " 10,\n",
       " 9,\n",
       " 10,\n",
       " 11,\n",
       " 12,\n",
       " 13,\n",
       " 14,\n",
       " 15,\n",
       " 14,\n",
       " 13,\n",
       " 14,\n",
       " 13,\n",
       " 12,\n",
       " 11,\n",
       " 12,\n",
       " 11,\n",
       " 12,\n",
       " 13,\n",
       " 14,\n",
       " 15,\n",
       " 16,\n",
       " 15,\n",
       " 16,\n",
       " 15,\n",
       " 14,\n",
       " 15,\n",
       " 16,\n",
       " 15,\n",
       " 14,\n",
       " 13,\n",
       " 14,\n",
       " 15,\n",
       " 16,\n",
       " 17,\n",
       " 18,\n",
       " 17,\n",
       " 16,\n",
       " 17,\n",
       " 16,\n",
       " 15,\n",
       " 16,\n",
       " 15,\n",
       " 16,\n",
       " 17,\n",
       " 18,\n",
       " 19,\n",
       " 18,\n",
       " 17,\n",
       " 16,\n",
       " 17,\n",
       " 16,\n",
       " 17,\n",
       " 18,\n",
       " 17,\n",
       " 16,\n",
       " 17,\n",
       " 18,\n",
       " 19,\n",
       " 20,\n",
       " 21,\n",
       " 20,\n",
       " 19,\n",
       " 18,\n",
       " 17,\n",
       " 18,\n",
       " 17,\n",
       " 18,\n",
       " 19,\n",
       " 20,\n",
       " 19,\n",
       " 18,\n",
       " 19,\n",
       " 18,\n",
       " 17,\n",
       " 16,\n",
       " 15,\n",
       " 16,\n",
       " 17,\n",
       " 16,\n",
       " 15,\n",
       " 16,\n",
       " 17,\n",
       " 18,\n",
       " 19,\n",
       " 20,\n",
       " 21,\n",
       " 20,\n",
       " 21,\n",
       " 22,\n",
       " 21,\n",
       " 22,\n",
       " 23,\n",
       " 24,\n",
       " 25,\n",
       " 24,\n",
       " 25,\n",
       " 24,\n",
       " 25,\n",
       " 24,\n",
       " 23,\n",
       " 24,\n",
       " 23,\n",
       " 22,\n",
       " 23,\n",
       " 22,\n",
       " 21,\n",
       " 22,\n",
       " 21,\n",
       " 22,\n",
       " 23,\n",
       " 22,\n",
       " 23,\n",
       " 22,\n",
       " 23,\n",
       " 22,\n",
       " 23,\n",
       " 22,\n",
       " 21,\n",
       " 20,\n",
       " 19,\n",
       " 20,\n",
       " 19,\n",
       " 18,\n",
       " 17,\n",
       " 16,\n",
       " 15,\n",
       " 14,\n",
       " 13,\n",
       " 14,\n",
       " 13,\n",
       " 14,\n",
       " 13,\n",
       " 12,\n",
       " 13,\n",
       " 14,\n",
       " 15,\n",
       " 16,\n",
       " 15,\n",
       " 16,\n",
       " 15,\n",
       " 16,\n",
       " 15,\n",
       " 14,\n",
       " 15,\n",
       " 14,\n",
       " 15,\n",
       " 14,\n",
       " 15,\n",
       " 16,\n",
       " 17,\n",
       " 16,\n",
       " 17,\n",
       " 16,\n",
       " 17,\n",
       " 18,\n",
       " 19,\n",
       " 20,\n",
       " 19,\n",
       " 20,\n",
       " 19,\n",
       " 20,\n",
       " 21,\n",
       " 22,\n",
       " 23,\n",
       " 22,\n",
       " 21,\n",
       " 22,\n",
       " 23,\n",
       " 24,\n",
       " 23,\n",
       " 24,\n",
       " 23,\n",
       " 24,\n",
       " 23,\n",
       " 24,\n",
       " 25,\n",
       " 26,\n",
       " 27,\n",
       " 26,\n",
       " 25,\n",
       " 26,\n",
       " 27,\n",
       " 28,\n",
       " 27,\n",
       " 28,\n",
       " 29,\n",
       " 28,\n",
       " 27,\n",
       " 28,\n",
       " 27,\n",
       " 26,\n",
       " 27,\n",
       " 26,\n",
       " 25,\n",
       " 26,\n",
       " 27,\n",
       " 28,\n",
       " 27,\n",
       " 26,\n",
       " 25,\n",
       " 26,\n",
       " 25,\n",
       " 26,\n",
       " 25,\n",
       " 24,\n",
       " 23,\n",
       " 22,\n",
       " 23,\n",
       " 22,\n",
       " 21,\n",
       " 22,\n",
       " 23,\n",
       " 22,\n",
       " 23,\n",
       " 24,\n",
       " 23,\n",
       " 22,\n",
       " 23,\n",
       " 24,\n",
       " 25,\n",
       " 26,\n",
       " 25,\n",
       " 24,\n",
       " 25,\n",
       " 24,\n",
       " 25,\n",
       " 24,\n",
       " 25,\n",
       " 24,\n",
       " 25,\n",
       " 24,\n",
       " 23,\n",
       " 24,\n",
       " 23,\n",
       " 24,\n",
       " 25,\n",
       " 26,\n",
       " 27,\n",
       " 26,\n",
       " 25,\n",
       " 26,\n",
       " 25,\n",
       " 24,\n",
       " 23,\n",
       " 24,\n",
       " 25,\n",
       " 26,\n",
       " 25,\n",
       " 24,\n",
       " 23,\n",
       " 24,\n",
       " 23,\n",
       " 22,\n",
       " 21,\n",
       " 22,\n",
       " 23,\n",
       " 22,\n",
       " 23,\n",
       " 22,\n",
       " 23,\n",
       " 22,\n",
       " 23,\n",
       " 24,\n",
       " 25,\n",
       " 26,\n",
       " 25,\n",
       " 26,\n",
       " 27,\n",
       " 28,\n",
       " 29,\n",
       " 30,\n",
       " 29,\n",
       " 28,\n",
       " 27,\n",
       " 26,\n",
       " 25,\n",
       " 24,\n",
       " 25,\n",
       " 26,\n",
       " 27,\n",
       " 28,\n",
       " 27,\n",
       " 28,\n",
       " 29,\n",
       " 28,\n",
       " 27,\n",
       " 26,\n",
       " 25,\n",
       " 26,\n",
       " 25,\n",
       " 24,\n",
       " 23,\n",
       " 22,\n",
       " 21,\n",
       " 22,\n",
       " 21,\n",
       " 20,\n",
       " 19,\n",
       " 20,\n",
       " 21,\n",
       " 22,\n",
       " 23,\n",
       " 22,\n",
       " 23,\n",
       " 22,\n",
       " 23,\n",
       " 22,\n",
       " 23,\n",
       " 22,\n",
       " 23,\n",
       " 24,\n",
       " 23,\n",
       " 24,\n",
       " 23,\n",
       " 22,\n",
       " 23,\n",
       " 24,\n",
       " 23,\n",
       " 24,\n",
       " 23,\n",
       " 24,\n",
       " 23,\n",
       " 24,\n",
       " 25,\n",
       " 24,\n",
       " 25,\n",
       " 24,\n",
       " 23,\n",
       " 22,\n",
       " 21,\n",
       " 20,\n",
       " 21,\n",
       " 22,\n",
       " 21,\n",
       " 20,\n",
       " 21,\n",
       " 22,\n",
       " 21,\n",
       " 22,\n",
       " 23,\n",
       " 24,\n",
       " 25,\n",
       " 26,\n",
       " 27,\n",
       " 28,\n",
       " 29,\n",
       " 30,\n",
       " 31,\n",
       " 32,\n",
       " 33,\n",
       " 32,\n",
       " 31,\n",
       " 32,\n",
       " 31,\n",
       " 30,\n",
       " 31,\n",
       " 30,\n",
       " 31,\n",
       " 32,\n",
       " 31,\n",
       " 32,\n",
       " 31,\n",
       " 30,\n",
       " 29,\n",
       " 28,\n",
       " 29,\n",
       " 30,\n",
       " 31,\n",
       " 32,\n",
       " 33,\n",
       " 34,\n",
       " 35,\n",
       " 34,\n",
       " 33,\n",
       " 34,\n",
       " 35,\n",
       " 34,\n",
       " 35,\n",
       " 36,\n",
       " 37,\n",
       " 36,\n",
       " 35,\n",
       " 34,\n",
       " 35,\n",
       " 34,\n",
       " 33,\n",
       " 32,\n",
       " 33,\n",
       " 32,\n",
       " 31,\n",
       " 32,\n",
       " 33,\n",
       " 32,\n",
       " 31,\n",
       " 30,\n",
       " 31,\n",
       " 32,\n",
       " 31,\n",
       " 32,\n",
       " 33,\n",
       " 34,\n",
       " 33,\n",
       " 34,\n",
       " 35,\n",
       " 36,\n",
       " 37,\n",
       " 38,\n",
       " 39,\n",
       " 38,\n",
       " 39,\n",
       " 40,\n",
       " 39,\n",
       " 40,\n",
       " 39,\n",
       " 38,\n",
       " 39,\n",
       " 40,\n",
       " 39,\n",
       " 38,\n",
       " 37,\n",
       " 36,\n",
       " 35,\n",
       " 34,\n",
       " 33,\n",
       " 32,\n",
       " 33,\n",
       " 32,\n",
       " 33,\n",
       " 32,\n",
       " 33,\n",
       " 32,\n",
       " 33,\n",
       " 32,\n",
       " 31,\n",
       " 30,\n",
       " 31,\n",
       " 32,\n",
       " 33,\n",
       " 32,\n",
       " 31,\n",
       " 30,\n",
       " 31,\n",
       " 30,\n",
       " 29,\n",
       " 28,\n",
       " 29,\n",
       " 28,\n",
       " 29,\n",
       " 30,\n",
       " 29,\n",
       " 28,\n",
       " 29,\n",
       " 30,\n",
       " 29,\n",
       " 28,\n",
       " 29,\n",
       " 28,\n",
       " 29,\n",
       " 30,\n",
       " 31,\n",
       " 32,\n",
       " 33,\n",
       " 34,\n",
       " 35,\n",
       " 36,\n",
       " 37,\n",
       " 38,\n",
       " 39,\n",
       " 38,\n",
       " 37,\n",
       " 36,\n",
       " 35,\n",
       " 34,\n",
       " 33,\n",
       " 32,\n",
       " 33,\n",
       " 34,\n",
       " 33,\n",
       " 34,\n",
       " 35,\n",
       " 36,\n",
       " 35,\n",
       " 34,\n",
       " 33,\n",
       " 34,\n",
       " 35,\n",
       " 34,\n",
       " 33,\n",
       " 32,\n",
       " 31,\n",
       " 30,\n",
       " 31,\n",
       " 30,\n",
       " 29,\n",
       " 28,\n",
       " 27,\n",
       " 28,\n",
       " 27,\n",
       " 26,\n",
       " 27,\n",
       " 26,\n",
       " 27,\n",
       " 26,\n",
       " 25,\n",
       " 26,\n",
       " 25,\n",
       " 26,\n",
       " 27,\n",
       " 28,\n",
       " 27,\n",
       " 28,\n",
       " 29,\n",
       " 28,\n",
       " 27,\n",
       " 26,\n",
       " 27,\n",
       " 26,\n",
       " 25,\n",
       " 24,\n",
       " 23,\n",
       " 22,\n",
       " 21,\n",
       " 20,\n",
       " 21,\n",
       " 20,\n",
       " 19,\n",
       " 20,\n",
       " 19,\n",
       " 18,\n",
       " 17,\n",
       " 16,\n",
       " 17,\n",
       " 18,\n",
       " 19,\n",
       " 18,\n",
       " 19,\n",
       " 20,\n",
       " 19,\n",
       " 20,\n",
       " 21,\n",
       " 20,\n",
       " 21,\n",
       " 22,\n",
       " 23,\n",
       " 24,\n",
       " 25,\n",
       " 24,\n",
       " 23,\n",
       " 22,\n",
       " 23,\n",
       " 24,\n",
       " 23,\n",
       " 22,\n",
       " 23,\n",
       " 24,\n",
       " 25,\n",
       " 26,\n",
       " 25,\n",
       " 26,\n",
       " 25,\n",
       " 26,\n",
       " 25,\n",
       " 24,\n",
       " 23,\n",
       " 24,\n",
       " 25,\n",
       " 24,\n",
       " 25,\n",
       " 26,\n",
       " 27,\n",
       " 28,\n",
       " 29,\n",
       " 30,\n",
       " 29,\n",
       " 30,\n",
       " 29,\n",
       " 30,\n",
       " 31,\n",
       " 32,\n",
       " 33,\n",
       " 32,\n",
       " 33,\n",
       " 34,\n",
       " 33,\n",
       " 34,\n",
       " 33,\n",
       " 32,\n",
       " 31,\n",
       " 30,\n",
       " 29,\n",
       " 28,\n",
       " 27,\n",
       " 26,\n",
       " 25,\n",
       " 24,\n",
       " 23,\n",
       " 24,\n",
       " 23,\n",
       " 24,\n",
       " 25,\n",
       " 24,\n",
       " 23,\n",
       " 22,\n",
       " 21,\n",
       " 22,\n",
       " 21,\n",
       " 22,\n",
       " 21,\n",
       " 22,\n",
       " 23,\n",
       " 24,\n",
       " 25,\n",
       " 24,\n",
       " 23,\n",
       " 22,\n",
       " 23,\n",
       " 24,\n",
       " 23,\n",
       " 22,\n",
       " 23,\n",
       " 24,\n",
       " 25,\n",
       " 26,\n",
       " 25,\n",
       " 26,\n",
       " 25,\n",
       " 24,\n",
       " 25,\n",
       " 26,\n",
       " 25,\n",
       " 24,\n",
       " 25,\n",
       " 26,\n",
       " 27,\n",
       " 26,\n",
       " 25,\n",
       " 26,\n",
       " 27,\n",
       " 28,\n",
       " 27,\n",
       " 26,\n",
       " 27,\n",
       " 26,\n",
       " 27,\n",
       " 28,\n",
       " 27,\n",
       " 26,\n",
       " 27,\n",
       " 26,\n",
       " 25,\n",
       " 26,\n",
       " 27,\n",
       " 28,\n",
       " 27,\n",
       " 26,\n",
       " 27,\n",
       " 26,\n",
       " 27,\n",
       " 26,\n",
       " 27,\n",
       " 28,\n",
       " 27,\n",
       " 26,\n",
       " 25,\n",
       " 24,\n",
       " 25,\n",
       " 24,\n",
       " 23,\n",
       " 24,\n",
       " 23,\n",
       " 22,\n",
       " 23,\n",
       " 24,\n",
       " 23,\n",
       " 22,\n",
       " 21,\n",
       " 22,\n",
       " 23,\n",
       " 24,\n",
       " 23,\n",
       " 24,\n",
       " 25,\n",
       " 24,\n",
       " 25,\n",
       " 24,\n",
       " 23,\n",
       " 22,\n",
       " 23,\n",
       " 24,\n",
       " 25,\n",
       " 24,\n",
       " 25,\n",
       " 26,\n",
       " 27,\n",
       " 28,\n",
       " 29,\n",
       " 30,\n",
       " 29,\n",
       " 30,\n",
       " 31,\n",
       " 32,\n",
       " 31,\n",
       " 30,\n",
       " 29,\n",
       " 30,\n",
       " 31,\n",
       " 32,\n",
       " 33,\n",
       " 34,\n",
       " 35,\n",
       " 36,\n",
       " 37,\n",
       " 38,\n",
       " 39,\n",
       " 40,\n",
       " 39,\n",
       " 38,\n",
       " 37,\n",
       " 38,\n",
       " 37,\n",
       " 38,\n",
       " 39,\n",
       " 40,\n",
       " 41,\n",
       " 42,\n",
       " 43,\n",
       " 44,\n",
       " 45,\n",
       " 44,\n",
       " 43,\n",
       " 44,\n",
       " 45,\n",
       " 44,\n",
       " 45,\n",
       " 44,\n",
       " 43,\n",
       " 42,\n",
       " 43,\n",
       " 42,\n",
       " 41,\n",
       " 42,\n",
       " 41,\n",
       " 42,\n",
       " 43,\n",
       " 44,\n",
       " 43,\n",
       " 44,\n",
       " 43,\n",
       " 44,\n",
       " 43,\n",
       " 42,\n",
       " 43,\n",
       " 42,\n",
       " 41,\n",
       " 40,\n",
       " 39,\n",
       " 38,\n",
       " 39,\n",
       " 38,\n",
       " 37,\n",
       " 38,\n",
       " 37,\n",
       " 36,\n",
       " 35,\n",
       " 34,\n",
       " 35,\n",
       " 36,\n",
       " 35,\n",
       " 36,\n",
       " 35,\n",
       " 34,\n",
       " 33,\n",
       " 34,\n",
       " 33,\n",
       " 34,\n",
       " 33,\n",
       " 34,\n",
       " 33,\n",
       " 32,\n",
       " 31,\n",
       " 30,\n",
       " 29,\n",
       " 28,\n",
       " 27,\n",
       " 26,\n",
       " 27,\n",
       " 28,\n",
       " 27,\n",
       " 28,\n",
       " 29,\n",
       " 30,\n",
       " 29,\n",
       " 28,\n",
       " 29,\n",
       " 30,\n",
       " 31,\n",
       " 32,\n",
       " 31,\n",
       " 30,\n",
       " 29,\n",
       " 30,\n",
       " 31,\n",
       " 30,\n",
       " 29,\n",
       " 30,\n",
       " 29,\n",
       " 28,\n",
       " 27,\n",
       " 26,\n",
       " 27,\n",
       " 26,\n",
       " 27,\n",
       " 26,\n",
       " 25,\n",
       " 24,\n",
       " 23,\n",
       " 22,\n",
       " 21,\n",
       " 20,\n",
       " 21,\n",
       " 20,\n",
       " 21,\n",
       " 22,\n",
       " 21,\n",
       " 22,\n",
       " 21,\n",
       " 20,\n",
       " 21,\n",
       " 20,\n",
       " 19,\n",
       " 18,\n",
       " 17,\n",
       " 16,\n",
       " 15,\n",
       " 14,\n",
       " 13,\n",
       " 14,\n",
       " 15,\n",
       " 16,\n",
       " 15,\n",
       " 14,\n",
       " 13,\n",
       " 12,\n",
       " 11,\n",
       " 12,\n",
       " 13,\n",
       " 14,\n",
       " 15,\n",
       " 16,\n",
       " 17,\n",
       " 18,\n",
       " 17,\n",
       " 18,\n",
       " 19,\n",
       " 20,\n",
       " 21,\n",
       " ...]"
      ]
     },
     "execution_count": 96,
     "metadata": {},
     "output_type": "execute_result"
    }
   ],
   "source": [
    "walk"
   ]
  },
  {
   "cell_type": "markdown",
   "metadata": {},
   "source": [
    "## 8. 练习\n",
    "给定数据文件，读取数据并截取。"
   ]
  },
  {
   "cell_type": "code",
   "execution_count": 88,
   "metadata": {
    "ExecuteTime": {
     "end_time": "2019-03-12T03:04:46.291067Z",
     "start_time": "2019-03-12T03:04:46.283076Z"
    }
   },
   "outputs": [],
   "source": [
    "import numpy as np\n",
    "import matplotlib.pyplot as plt"
   ]
  },
  {
   "cell_type": "code",
   "execution_count": null,
   "metadata": {
    "collapsed": true
   },
   "outputs": [],
   "source": [
    "data = np.loadtxt(\"data_file.txt\", delimiter=',')"
   ]
  },
  {
   "cell_type": "code",
   "execution_count": null,
   "metadata": {
    "collapsed": true
   },
   "outputs": [],
   "source": [
    "data"
   ]
  },
  {
   "cell_type": "code",
   "execution_count": null,
   "metadata": {
    "collapsed": true
   },
   "outputs": [],
   "source": [
    "time = data[:,0]"
   ]
  },
  {
   "cell_type": "code",
   "execution_count": null,
   "metadata": {
    "collapsed": true
   },
   "outputs": [],
   "source": [
    "time"
   ]
  },
  {
   "cell_type": "code",
   "execution_count": null,
   "metadata": {
    "collapsed": true
   },
   "outputs": [],
   "source": [
    "sensors = data[:,1:5]"
   ]
  },
  {
   "cell_type": "code",
   "execution_count": null,
   "metadata": {
    "collapsed": true
   },
   "outputs": [],
   "source": [
    "sensors"
   ]
  },
  {
   "cell_type": "code",
   "execution_count": null,
   "metadata": {
    "collapsed": true
   },
   "outputs": [],
   "source": [
    "print(sensors[0:6])"
   ]
  },
  {
   "cell_type": "code",
   "execution_count": null,
   "metadata": {
    "collapsed": true
   },
   "outputs": [],
   "source": [
    "time = time - time[0]"
   ]
  },
  {
   "cell_type": "code",
   "execution_count": null,
   "metadata": {
    "collapsed": true
   },
   "outputs": [],
   "source": [
    "time"
   ]
  },
  {
   "cell_type": "code",
   "execution_count": null,
   "metadata": {
    "collapsed": true
   },
   "outputs": [],
   "source": [
    "avg = sensors.mean(1)"
   ]
  },
  {
   "cell_type": "code",
   "execution_count": null,
   "metadata": {
    "collapsed": true
   },
   "outputs": [],
   "source": [
    "avg"
   ]
  },
  {
   "cell_type": "code",
   "execution_count": null,
   "metadata": {
    "collapsed": true
   },
   "outputs": [],
   "source": [
    "mydata = np.vstack((time, sensors.T, avg))"
   ]
  },
  {
   "cell_type": "code",
   "execution_count": null,
   "metadata": {
    "collapsed": true
   },
   "outputs": [],
   "source": [
    "mydata"
   ]
  },
  {
   "cell_type": "code",
   "execution_count": null,
   "metadata": {
    "collapsed": true
   },
   "outputs": [],
   "source": [
    "mydata = mydata.T\n",
    "mydata"
   ]
  },
  {
   "cell_type": "code",
   "execution_count": null,
   "metadata": {
    "collapsed": true
   },
   "outputs": [],
   "source": [
    "np.savetxt('newdata.txt', X=mydata, delimiter=',')"
   ]
  },
  {
   "cell_type": "code",
   "execution_count": null,
   "metadata": {
    "collapsed": true
   },
   "outputs": [],
   "source": [
    "%matplotlib inline\n",
    "plt.figure(figsize=(16,9))\n",
    "plt.plot(time/60, sensors[:,1], 'ro')\n",
    "plt.plot(time/60, avg, 'b.')\n",
    "plt.legend(['Sensor 2', 'Avg Sensor 1-4'])\n",
    "plt.xlabel('Time(min)')\n",
    "plt.ylabel('Sensor Vaules')"
   ]
  },
  {
   "cell_type": "code",
   "execution_count": null,
   "metadata": {
    "collapsed": true
   },
   "outputs": [],
   "source": []
  },
  {
   "cell_type": "code",
   "execution_count": null,
   "metadata": {
    "collapsed": true
   },
   "outputs": [],
   "source": []
  },
  {
   "cell_type": "code",
   "execution_count": null,
   "metadata": {
    "collapsed": true
   },
   "outputs": [],
   "source": []
  },
  {
   "cell_type": "code",
   "execution_count": null,
   "metadata": {
    "collapsed": true
   },
   "outputs": [],
   "source": []
  }
 ],
 "metadata": {
  "kernelspec": {
   "display_name": "Python 3",
   "language": "python",
   "name": "python3"
  },
  "language_info": {
   "codemirror_mode": {
    "name": "ipython",
    "version": 3
   },
   "file_extension": ".py",
   "mimetype": "text/x-python",
   "name": "python",
   "nbconvert_exporter": "python",
   "pygments_lexer": "ipython3",
   "version": "3.6.4"
  },
  "toc": {
   "base_numbering": 1,
   "nav_menu": {},
   "number_sections": true,
   "sideBar": true,
   "skip_h1_title": false,
   "title_cell": "Table of Contents",
   "title_sidebar": "Contents",
   "toc_cell": false,
   "toc_position": {
    "height": "calc(100% - 180px)",
    "left": "10px",
    "top": "150px",
    "width": "233px"
   },
   "toc_section_display": true,
   "toc_window_display": true
  }
 },
 "nbformat": 4,
 "nbformat_minor": 2
}
